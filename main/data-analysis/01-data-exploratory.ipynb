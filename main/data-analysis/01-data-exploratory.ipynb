{
 "cells": [
  {
   "cell_type": "markdown",
   "id": "a5e4cb47",
   "metadata": {},
   "source": [
    "# SAM MEDIA  CHALLENGE\n",
    "\n",
    "\n",
    "***\n",
    "\n",
    "Data Analysis techniques to identify potential patterns to maximize the number of successful billing attempts\n",
    "\n",
    "***"
   ]
  },
  {
   "cell_type": "markdown",
   "id": "89596703",
   "metadata": {},
   "source": [
    "## HOW THIS NOTEBOOK IS ORGANIZED"
   ]
  },
  {
   "cell_type": "markdown",
   "id": "3723d4e8",
   "metadata": {},
   "source": [
    "**1.INTRODUCTION**\n",
    "\n",
    "    Business Problem and methodology definition\n",
    "\n",
    "**2. FUNCTIONS**\n",
    "\n",
    "    Functions created to be used through the notebook/analysis\n",
    "\n",
    "**3. LIBRARIES IMPORT**\n",
    "        \n",
    "    Necessary libraries import\n",
    "\n",
    "**4. DATA IMPORT**\n",
    "\n",
    "    Imported of both datasets\n",
    "\n",
    "**5. DATASET OVERVIEW**\n",
    "\n",
    "    Data type, missing values, possible errors\n",
    "\n",
    "\n",
    "**6. MERGE OF BOTH DATASETS**\n",
    "\n",
    "    By 'user_id', a merge of both datasets\n",
    "\n",
    "**7. DELIVERED TRANSACTIONS ANALYSIS**\n",
    "\n",
    "    RFM table\n",
    "    Categorical Analysis\n",
    "    Overall score\n",
    "\n",
    "**8. FAILED TRANSACTIONS ANALYSIS**\n",
    "\n",
    "    RFM table\n",
    "    Categorical Analysis\n",
    "    Overall score\n",
    "\n",
    "**9.CONCLUSION**\n",
    "\n",
    "    Final considerations"
   ]
  },
  {
   "cell_type": "markdown",
   "id": "105345f8",
   "metadata": {},
   "source": [
    "## METHODOLOGY"
   ]
  },
  {
   "cell_type": "markdown",
   "id": "02f22f0f",
   "metadata": {},
   "source": [
    "We will use the CRISP-DM as the method for this analysis project.\n",
    "\n",
    "CRISP-DM stands for \"Cross-Industry Standard Process for Data Mining\", very common for project management methods in Data Science.\n",
    "\n",
    "Composed of six steps that together form a complete cycle, CRISP methodology shows a \"360º project view\".\n",
    "\n",
    "For the purpose of this notebook, we won't go through each step (as ML modelling or deployment), but the idea remains the same: build a easy-undertanding framework which can be improve in every new started cycle.\n",
    "\n",
    "The CRISP-DM Cycle:"
   ]
  },
  {
   "cell_type": "markdown",
   "id": "fe286910",
   "metadata": {},
   "source": [
    "<img src=\"https://www.datascience-pm.com/wp-content/uploads/2018/09/crisp-dm-wikicommons.jpg\" alt=\"CRISP-DM - Data Science Process Alliance\" jsname=\"HiaYvf\" jsaction=\"load:XAeZkd;\" class=\"n3VNCb\" data-noaft=\"1\" width=\"400\" height=\"500\">"
   ]
  },
  {
   "cell_type": "markdown",
   "id": "38cf6c3f",
   "metadata": {},
   "source": [
    "## BUSINESS PROBLEM"
   ]
  },
  {
   "cell_type": "markdown",
   "id": "8b7966eb",
   "metadata": {},
   "source": [
    "In June, the number of delivered billings has decreased over the day as we can see in the following line chart."
   ]
  },
  {
   "cell_type": "markdown",
   "id": "f8f9beab",
   "metadata": {},
   "source": [
    "<img style=\"display: block;-webkit-user-select: none;margin: auto;cursor: zoom-in;background-color: hsl(0, 0%, 90%);transition: background-color 300ms;\" src=\"https://i.ibb.co/RPLXynY/delivered-billings.png\" width=\"717\" height=\"247\">"
   ]
  },
  {
   "cell_type": "markdown",
   "id": "08f8bece",
   "metadata": {},
   "source": [
    "This analysis aims to identify opportunities to:\n",
    "\n",
    "1. Understand the data behavior\n",
    "2. Analyze the variables which have the most impact on the delivered billings attempts\n",
    "3. Find patterns in the users who have successfully been charged\n",
    "4. Identify a method to improve the metrics of the users that have not been successfully charged"
   ]
  },
  {
   "cell_type": "markdown",
   "id": "a597b9c9",
   "metadata": {},
   "source": [
    "# FUNCTIONS"
   ]
  },
  {
   "cell_type": "code",
   "execution_count": 1,
   "id": "1c9224c3",
   "metadata": {
    "ExecuteTime": {
     "end_time": "2022-08-28T20:05:19.537186Z",
     "start_time": "2022-08-28T20:05:19.518295Z"
    },
    "code_folding": []
   },
   "outputs": [],
   "source": [
    "def set_chart_config(title, xlabel, ylabel):\n",
    "    plt.title(title, fontsize = 12, pad = 10)\n",
    "    plt.xlabel(xlabel, fontsize = 10)\n",
    "    plt.ylabel(ylabel, fontsize = 10)\n",
    "    plt.xticks(fontsize = 8)\n",
    "    plt.yticks(fontsize = 8);\n",
    "    \n",
    "    \n",
    "def create_rfm_table(dataframe):\n",
    "    now = datetime.datetime.today().strftime('%Y-%m-%d')\n",
    "    now = pd.to_datetime(now, format='%Y-%m-%d')\n",
    "\n",
    "    rfm = dataframe.groupby('user_id').agg({'transaction_timestamp': lambda x: ( now- x.max()).days,\n",
    "                                 'user_id' : lambda x: len(x),\n",
    "                                        'pricepoint': lambda x: x.sum()})\n",
    "\n",
    "    rfm = rfm.rename(columns=({'transaction_timestamp' : 'recency',\n",
    "                              'user_id' : 'frequency',\n",
    "                              'pricepoint' : 'pricepoint_sum'}))\n",
    "    #rfm = rfm.reset_index()\n",
    "    rfm['pricepoint_sum'] = round(rfm['pricepoint_sum'], 2)\n",
    "\n",
    "    return rfm\n",
    "\n",
    "\n",
    "def create_viz_rfm(dataframe):\n",
    "    \n",
    "    rfm = create_rfm_table(dataframe)\n",
    "    sns.set_theme()\n",
    "\n",
    "    plt.figure(figsize = (15,5))\n",
    "    plt.subplot(1, 3, 1)\n",
    "    sns.histplot(data = rfm, x = 'recency', kde = True, color = 'cadetblue')\n",
    "    set_chart_config('Histogram - Recency', '', '')\n",
    "\n",
    "    plt.subplot(1, 3, 2)\n",
    "    sns.histplot(data = rfm, x = 'frequency', color = 'cadetblue')\n",
    "    set_chart_config('Histogram - Frequency', '', '')\n",
    "\n",
    "    plt.subplot(1, 3, 3)\n",
    "    sns.countplot(data = rfm, x = 'pricepoint_sum',palette = 'crest')\n",
    "    set_chart_config('Barplot - Price Point (Sum)', '', '')\n",
    "    plt.xticks(rotation = 90);\n",
    "\n",
    "def change_recency_score(dataframe):\n",
    "    dataframe['recency'] = dataframe['recency'].apply(lambda x: 3 \n",
    "                                     if x < 31 else 2\n",
    "                                     if x > 30 and x < 61 else 1\n",
    "                                     if x > 60 else 0)\n",
    "    return dataframe\n",
    "\n",
    "\n",
    "def create_days_of_week(dataframe, column):\n",
    "    dataframe['day_of_week'] = dataframe[column].dt.dayofweek\n",
    "\n",
    "    days_of_week = {\n",
    "        0 : 'monday',\n",
    "        1 : 'tuesday',\n",
    "        2 : 'wednesday',\n",
    "        3 : 'thursday',\n",
    "        4 : 'friday',\n",
    "        5 : 'saturday',\n",
    "        6 : 'sunday'\n",
    "    }\n",
    "\n",
    "    dataframe['day_of_week'] = dataframe['day_of_week'].map(days_of_week)\n",
    "    return dataframe\n"
   ]
  },
  {
   "cell_type": "markdown",
   "id": "6c8491b6",
   "metadata": {},
   "source": [
    "# IMPORTS"
   ]
  },
  {
   "cell_type": "code",
   "execution_count": 2,
   "id": "7e28e8c0",
   "metadata": {
    "ExecuteTime": {
     "end_time": "2022-08-28T20:05:21.684108Z",
     "start_time": "2022-08-28T20:05:19.542746Z"
    }
   },
   "outputs": [],
   "source": [
    "import pandas           as pd\n",
    "import numpy            as np\n",
    "import seaborn          as sns\n",
    "\n",
    "from numpy import random\n",
    "from numpy import mean\n",
    "\n",
    "import matplotlib.pyplot as plt\n",
    "import datetime\n",
    "\n",
    "from sklearn.cluster import KMeans\n",
    "from sklearn.preprocessing import StandardScaler\n",
    "\n",
    "import invert_dict as d"
   ]
  },
  {
   "cell_type": "markdown",
   "id": "0342e064",
   "metadata": {},
   "source": [
    "# DATA IMPORT"
   ]
  },
  {
   "cell_type": "code",
   "execution_count": 3,
   "id": "279ecfa4",
   "metadata": {
    "ExecuteTime": {
     "end_time": "2022-08-28T20:05:21.761415Z",
     "start_time": "2022-08-28T20:05:21.686976Z"
    }
   },
   "outputs": [
    {
     "data": {
      "text/html": [
       "<div>\n",
       "<style scoped>\n",
       "    .dataframe tbody tr th:only-of-type {\n",
       "        vertical-align: middle;\n",
       "    }\n",
       "\n",
       "    .dataframe tbody tr th {\n",
       "        vertical-align: top;\n",
       "    }\n",
       "\n",
       "    .dataframe thead th {\n",
       "        text-align: right;\n",
       "    }\n",
       "</style>\n",
       "<table border=\"1\" class=\"dataframe\">\n",
       "  <thead>\n",
       "    <tr style=\"text-align: right;\">\n",
       "      <th></th>\n",
       "      <th>user_id</th>\n",
       "      <th>subscription_date</th>\n",
       "      <th>phone_operator</th>\n",
       "      <th>os_name</th>\n",
       "      <th>os_version</th>\n",
       "      <th>affiliate</th>\n",
       "      <th>unsubscription_date</th>\n",
       "      <th>service</th>\n",
       "      <th>aggregator</th>\n",
       "    </tr>\n",
       "  </thead>\n",
       "  <tbody>\n",
       "    <tr>\n",
       "      <th>0</th>\n",
       "      <td>4b0625b0e19a11ec8a541fcc86ad2588</td>\n",
       "      <td>2022-06-01 11:03:06.000000</td>\n",
       "      <td>C</td>\n",
       "      <td>NaN</td>\n",
       "      <td>NaN</td>\n",
       "      <td>aff_4</td>\n",
       "      <td>2022-06-01 12:23:34.000000</td>\n",
       "      <td>ps</td>\n",
       "      <td>ABC</td>\n",
       "    </tr>\n",
       "    <tr>\n",
       "      <th>1</th>\n",
       "      <td>4058b340e19e11ec95703f2faa3b39a3</td>\n",
       "      <td>2022-06-01 11:32:06.000000</td>\n",
       "      <td>B</td>\n",
       "      <td>Android</td>\n",
       "      <td>8.0</td>\n",
       "      <td>aff_4</td>\n",
       "      <td>NaN</td>\n",
       "      <td>gc</td>\n",
       "      <td>ABC</td>\n",
       "    </tr>\n",
       "    <tr>\n",
       "      <th>2</th>\n",
       "      <td>a0b80170e1b011ec8a541fcc86ad2588</td>\n",
       "      <td>2022-06-01 13:42:29.000000</td>\n",
       "      <td>C</td>\n",
       "      <td>Android</td>\n",
       "      <td>9.0</td>\n",
       "      <td>aff_4</td>\n",
       "      <td>NaN</td>\n",
       "      <td>ma</td>\n",
       "      <td>ABC</td>\n",
       "    </tr>\n",
       "    <tr>\n",
       "      <th>3</th>\n",
       "      <td>91299d70e1d511ec8a541fcc86ad2588</td>\n",
       "      <td>2022-06-01 18:09:04.000000</td>\n",
       "      <td>B</td>\n",
       "      <td>iOS</td>\n",
       "      <td>15.4</td>\n",
       "      <td>aff_4</td>\n",
       "      <td>2022-06-15 08:24:58.000000</td>\n",
       "      <td>ps</td>\n",
       "      <td>ABC</td>\n",
       "    </tr>\n",
       "    <tr>\n",
       "      <th>4</th>\n",
       "      <td>ee930990e1fa11ecb2988337303a8fef</td>\n",
       "      <td>2022-06-01 22:35:02.000000</td>\n",
       "      <td>C</td>\n",
       "      <td>Android</td>\n",
       "      <td>6.0</td>\n",
       "      <td>aff_4</td>\n",
       "      <td>NaN</td>\n",
       "      <td>ma</td>\n",
       "      <td>ABC</td>\n",
       "    </tr>\n",
       "  </tbody>\n",
       "</table>\n",
       "</div>"
      ],
      "text/plain": [
       "                            user_id           subscription_date  \\\n",
       "0  4b0625b0e19a11ec8a541fcc86ad2588  2022-06-01 11:03:06.000000   \n",
       "1  4058b340e19e11ec95703f2faa3b39a3  2022-06-01 11:32:06.000000   \n",
       "2  a0b80170e1b011ec8a541fcc86ad2588  2022-06-01 13:42:29.000000   \n",
       "3  91299d70e1d511ec8a541fcc86ad2588  2022-06-01 18:09:04.000000   \n",
       "4  ee930990e1fa11ecb2988337303a8fef  2022-06-01 22:35:02.000000   \n",
       "\n",
       "  phone_operator  os_name  os_version affiliate         unsubscription_date  \\\n",
       "0              C      NaN         NaN     aff_4  2022-06-01 12:23:34.000000   \n",
       "1              B  Android         8.0     aff_4                         NaN   \n",
       "2              C  Android         9.0     aff_4                         NaN   \n",
       "3              B      iOS        15.4     aff_4  2022-06-15 08:24:58.000000   \n",
       "4              C  Android         6.0     aff_4                         NaN   \n",
       "\n",
       "  service aggregator  \n",
       "0      ps        ABC  \n",
       "1      gc        ABC  \n",
       "2      ma        ABC  \n",
       "3      ps        ABC  \n",
       "4      ma        ABC  "
      ]
     },
     "execution_count": 3,
     "metadata": {},
     "output_type": "execute_result"
    }
   ],
   "source": [
    "users = pd.read_csv('../data/users.csv')\n",
    "users.head()"
   ]
  },
  {
   "cell_type": "code",
   "execution_count": 4,
   "id": "c639b84d",
   "metadata": {
    "ExecuteTime": {
     "end_time": "2022-08-28T20:05:22.182593Z",
     "start_time": "2022-08-28T20:05:21.767501Z"
    }
   },
   "outputs": [
    {
     "data": {
      "text/html": [
       "<div>\n",
       "<style scoped>\n",
       "    .dataframe tbody tr th:only-of-type {\n",
       "        vertical-align: middle;\n",
       "    }\n",
       "\n",
       "    .dataframe tbody tr th {\n",
       "        vertical-align: top;\n",
       "    }\n",
       "\n",
       "    .dataframe thead th {\n",
       "        text-align: right;\n",
       "    }\n",
       "</style>\n",
       "<table border=\"1\" class=\"dataframe\">\n",
       "  <thead>\n",
       "    <tr style=\"text-align: right;\">\n",
       "      <th></th>\n",
       "      <th>user_id</th>\n",
       "      <th>transaction_timestamp</th>\n",
       "      <th>service</th>\n",
       "      <th>phone_operator</th>\n",
       "      <th>status</th>\n",
       "      <th>pricepoint</th>\n",
       "    </tr>\n",
       "  </thead>\n",
       "  <tbody>\n",
       "    <tr>\n",
       "      <th>0</th>\n",
       "      <td>ad54a2e0e16e11ec95703f2faa3b39a3</td>\n",
       "      <td>2022-06-01 05:50:48.000000</td>\n",
       "      <td>ma</td>\n",
       "      <td>C</td>\n",
       "      <td>Failed</td>\n",
       "      <td>3.6</td>\n",
       "    </tr>\n",
       "    <tr>\n",
       "      <th>1</th>\n",
       "      <td>f0769510e19611ecb2988337303a8fef</td>\n",
       "      <td>2022-06-01 10:38:53.000000</td>\n",
       "      <td>ps</td>\n",
       "      <td>A</td>\n",
       "      <td>Failed</td>\n",
       "      <td>3.6</td>\n",
       "    </tr>\n",
       "    <tr>\n",
       "      <th>2</th>\n",
       "      <td>3c7b02e0e1a911ec8a541fcc86ad2588</td>\n",
       "      <td>2022-06-01 12:50:41.000000</td>\n",
       "      <td>cl</td>\n",
       "      <td>A</td>\n",
       "      <td>Failed</td>\n",
       "      <td>3.6</td>\n",
       "    </tr>\n",
       "    <tr>\n",
       "      <th>3</th>\n",
       "      <td>bf9b25f0e1e111ecbaa51f9ae3f5945d</td>\n",
       "      <td>2022-06-01 19:34:40.000000</td>\n",
       "      <td>ma</td>\n",
       "      <td>A</td>\n",
       "      <td>Delivered</td>\n",
       "      <td>3.6</td>\n",
       "    </tr>\n",
       "    <tr>\n",
       "      <th>4</th>\n",
       "      <td>06d76e40e1fd11ec8a541fcc86ad2588</td>\n",
       "      <td>2022-06-01 22:49:27.000000</td>\n",
       "      <td>tv</td>\n",
       "      <td>B</td>\n",
       "      <td>Failed</td>\n",
       "      <td>3.6</td>\n",
       "    </tr>\n",
       "  </tbody>\n",
       "</table>\n",
       "</div>"
      ],
      "text/plain": [
       "                            user_id       transaction_timestamp service  \\\n",
       "0  ad54a2e0e16e11ec95703f2faa3b39a3  2022-06-01 05:50:48.000000      ma   \n",
       "1  f0769510e19611ecb2988337303a8fef  2022-06-01 10:38:53.000000      ps   \n",
       "2  3c7b02e0e1a911ec8a541fcc86ad2588  2022-06-01 12:50:41.000000      cl   \n",
       "3  bf9b25f0e1e111ecbaa51f9ae3f5945d  2022-06-01 19:34:40.000000      ma   \n",
       "4  06d76e40e1fd11ec8a541fcc86ad2588  2022-06-01 22:49:27.000000      tv   \n",
       "\n",
       "  phone_operator     status  pricepoint  \n",
       "0              C     Failed         3.6  \n",
       "1              A     Failed         3.6  \n",
       "2              A     Failed         3.6  \n",
       "3              A  Delivered         3.6  \n",
       "4              B     Failed         3.6  "
      ]
     },
     "execution_count": 4,
     "metadata": {},
     "output_type": "execute_result"
    }
   ],
   "source": [
    "transac = pd.read_csv('../data/transactions.tsv', sep = '\\t', engine = 'python')\n",
    "transac.head()"
   ]
  },
  {
   "cell_type": "markdown",
   "id": "b5ccf535",
   "metadata": {},
   "source": [
    "# DATASET OVERVIEW"
   ]
  },
  {
   "cell_type": "markdown",
   "id": "9f778a57",
   "metadata": {},
   "source": [
    "In this section, we're going to review the datatypes, presence of missing values, wrong records, etc."
   ]
  },
  {
   "cell_type": "markdown",
   "id": "35750a63",
   "metadata": {},
   "source": [
    "## DATA TYPES, MISSING VALUES, ETC."
   ]
  },
  {
   "cell_type": "markdown",
   "id": "297625e8",
   "metadata": {
    "heading_collapsed": true
   },
   "source": [
    "### USERS DATASET"
   ]
  },
  {
   "cell_type": "code",
   "execution_count": 5,
   "id": "226d9368",
   "metadata": {
    "ExecuteTime": {
     "end_time": "2022-08-28T20:05:22.220872Z",
     "start_time": "2022-08-28T20:05:22.186606Z"
    },
    "hidden": true
   },
   "outputs": [
    {
     "name": "stdout",
     "output_type": "stream",
     "text": [
      "<class 'pandas.core.frame.DataFrame'>\n",
      "RangeIndex: 14825 entries, 0 to 14824\n",
      "Data columns (total 9 columns):\n",
      " #   Column               Non-Null Count  Dtype  \n",
      "---  ------               --------------  -----  \n",
      " 0   user_id              14825 non-null  object \n",
      " 1   subscription_date    14825 non-null  object \n",
      " 2   phone_operator       14825 non-null  object \n",
      " 3   os_name              14619 non-null  object \n",
      " 4   os_version           14617 non-null  float64\n",
      " 5   affiliate            14773 non-null  object \n",
      " 6   unsubscription_date  6934 non-null   object \n",
      " 7   service              14825 non-null  object \n",
      " 8   aggregator           14825 non-null  object \n",
      "dtypes: float64(1), object(8)\n",
      "memory usage: 1.0+ MB\n"
     ]
    }
   ],
   "source": [
    "users.info()"
   ]
  },
  {
   "cell_type": "code",
   "execution_count": 6,
   "id": "d91d93d5",
   "metadata": {
    "ExecuteTime": {
     "end_time": "2022-08-28T20:05:22.233749Z",
     "start_time": "2022-08-28T20:05:22.224980Z"
    },
    "hidden": true
   },
   "outputs": [
    {
     "data": {
      "text/plain": [
       "(14825, 9)"
      ]
     },
     "execution_count": 6,
     "metadata": {},
     "output_type": "execute_result"
    }
   ],
   "source": [
    "users.shape"
   ]
  },
  {
   "cell_type": "code",
   "execution_count": 7,
   "id": "45af3abe",
   "metadata": {
    "ExecuteTime": {
     "end_time": "2022-08-28T20:05:22.274416Z",
     "start_time": "2022-08-28T20:05:22.239694Z"
    },
    "hidden": true
   },
   "outputs": [
    {
     "data": {
      "text/plain": [
       "user_id                   0\n",
       "subscription_date         0\n",
       "phone_operator            0\n",
       "os_name                 206\n",
       "os_version              208\n",
       "affiliate                52\n",
       "unsubscription_date    7891\n",
       "service                   0\n",
       "aggregator                0\n",
       "dtype: int64"
      ]
     },
     "execution_count": 7,
     "metadata": {},
     "output_type": "execute_result"
    }
   ],
   "source": [
    "users.isna().sum()"
   ]
  },
  {
   "cell_type": "code",
   "execution_count": 8,
   "id": "6bdccd53",
   "metadata": {
    "ExecuteTime": {
     "end_time": "2022-08-28T20:05:22.289388Z",
     "start_time": "2022-08-28T20:05:22.278632Z"
    },
    "hidden": true
   },
   "outputs": [
    {
     "data": {
      "text/plain": [
       "14825"
      ]
     },
     "execution_count": 8,
     "metadata": {},
     "output_type": "execute_result"
    }
   ],
   "source": [
    "len(users['user_id'].unique())"
   ]
  },
  {
   "cell_type": "code",
   "execution_count": 9,
   "id": "2cf88c19",
   "metadata": {
    "ExecuteTime": {
     "end_time": "2022-08-28T20:05:22.312268Z",
     "start_time": "2022-08-28T20:05:22.294509Z"
    },
    "hidden": true
   },
   "outputs": [
    {
     "name": "stdout",
     "output_type": "stream",
     "text": [
      "2022-06-29 23:58:09.000000 2022-06-01 00:06:24.000000\n",
      "2022-07-26 12:13:05.000000 2022-06-01 00:08:30.000000\n"
     ]
    }
   ],
   "source": [
    "#looking for wrong dates\n",
    "print(users['subscription_date'].max(), users['subscription_date'].min())\n",
    "print(users['unsubscription_date'].dropna().max(), users['unsubscription_date'].dropna().min())"
   ]
  },
  {
   "cell_type": "code",
   "execution_count": 10,
   "id": "f8ee33bc",
   "metadata": {
    "ExecuteTime": {
     "end_time": "2022-08-28T20:05:22.347313Z",
     "start_time": "2022-08-28T20:05:22.324943Z"
    },
    "hidden": true,
    "scrolled": false
   },
   "outputs": [
    {
     "name": "stdout",
     "output_type": "stream",
     "text": [
      "C    5306\n",
      "B    5012\n",
      "A    4507\n",
      "Name: phone_operator, dtype: int64\n",
      "Android          10484\n",
      "iOS               4093\n",
      "HarmonyOS           32\n",
      "iPadOS               4\n",
      "Windows Phone        3\n",
      "OS X                 3\n",
      "Name: os_name, dtype: int64\n",
      "11.00    3534\n",
      "10.00    3068\n",
      "15.50    2600\n",
      "12.00    1685\n",
      "9.00     1109\n",
      "15.40     569\n",
      "8.00      341\n",
      "8.10      277\n",
      "14.80     203\n",
      "12.50     137\n",
      "6.00      134\n",
      "7.00      129\n",
      "15.30     126\n",
      "14.70      99\n",
      "7.10       97\n",
      "5.10       65\n",
      "14.40      59\n",
      "14.60      53\n",
      "15.10      49\n",
      "15.20      32\n",
      "4.40       32\n",
      "2.00       31\n",
      "15.00      23\n",
      "15.60      21\n",
      "13.30      16\n",
      "13.70      13\n",
      "5.00       12\n",
      "14.20      12\n",
      "14.50      11\n",
      "12.40      10\n",
      "13.60       9\n",
      "14.30       9\n",
      "13.50       6\n",
      "11.40       5\n",
      "14.10       5\n",
      "13.40       5\n",
      "12.30       5\n",
      "10.30       5\n",
      "16.00       4\n",
      "14.00       4\n",
      "10.15       3\n",
      "4.20        2\n",
      "13.20       2\n",
      "12.10       2\n",
      "13.10       1\n",
      "11.30       1\n",
      "4.10        1\n",
      "11.10       1\n",
      "Name: os_version, dtype: int64\n",
      "aff_4    12956\n",
      "aff_2     1722\n",
      "aff_3       95\n",
      "Name: affiliate, dtype: int64\n",
      "ps    5592\n",
      "ma    3120\n",
      "cl    2927\n",
      "tv    1722\n",
      "gc    1464\n",
      "Name: service, dtype: int64\n",
      "ABC    14825\n",
      "Name: aggregator, dtype: int64\n"
     ]
    }
   ],
   "source": [
    "# investigating how the data is 'distribuited' among the variables\n",
    "columns = ['phone_operator', 'os_name', 'os_version', 'affiliate',  'service', 'aggregator']\n",
    "\n",
    "for i in users[columns]:\n",
    "    print(users[i].value_counts())"
   ]
  },
  {
   "cell_type": "code",
   "execution_count": 11,
   "id": "ce2fa5a1",
   "metadata": {
    "ExecuteTime": {
     "end_time": "2022-08-28T20:05:22.376506Z",
     "start_time": "2022-08-28T20:05:22.351690Z"
    },
    "hidden": true
   },
   "outputs": [],
   "source": [
    "#changind data type\n",
    "users['subscription_date'] = users['subscription_date'].astype('datetime64')\n",
    "users['unsubscription_date'] = users['unsubscription_date'].astype('datetime64')"
   ]
  },
  {
   "cell_type": "markdown",
   "id": "a21e2b65",
   "metadata": {
    "heading_collapsed": true
   },
   "source": [
    "### TRANSACTIONS DATASET"
   ]
  },
  {
   "cell_type": "code",
   "execution_count": 12,
   "id": "f6460e3f",
   "metadata": {
    "ExecuteTime": {
     "end_time": "2022-08-28T20:05:22.450877Z",
     "start_time": "2022-08-28T20:05:22.380359Z"
    },
    "hidden": true
   },
   "outputs": [
    {
     "name": "stdout",
     "output_type": "stream",
     "text": [
      "<class 'pandas.core.frame.DataFrame'>\n",
      "RangeIndex: 62877 entries, 0 to 62876\n",
      "Data columns (total 6 columns):\n",
      " #   Column                 Non-Null Count  Dtype  \n",
      "---  ------                 --------------  -----  \n",
      " 0   user_id                62877 non-null  object \n",
      " 1   transaction_timestamp  62877 non-null  object \n",
      " 2   service                62877 non-null  object \n",
      " 3   phone_operator         62877 non-null  object \n",
      " 4   status                 62876 non-null  object \n",
      " 5   pricepoint             62877 non-null  float64\n",
      "dtypes: float64(1), object(5)\n",
      "memory usage: 2.9+ MB\n"
     ]
    }
   ],
   "source": [
    "transac.info()"
   ]
  },
  {
   "cell_type": "code",
   "execution_count": 13,
   "id": "26875602",
   "metadata": {
    "ExecuteTime": {
     "end_time": "2022-08-28T20:05:22.462054Z",
     "start_time": "2022-08-28T20:05:22.455178Z"
    },
    "hidden": true
   },
   "outputs": [
    {
     "data": {
      "text/plain": [
       "(62877, 6)"
      ]
     },
     "execution_count": 13,
     "metadata": {},
     "output_type": "execute_result"
    }
   ],
   "source": [
    "transac.shape"
   ]
  },
  {
   "cell_type": "code",
   "execution_count": 14,
   "id": "d12b8808",
   "metadata": {
    "ExecuteTime": {
     "end_time": "2022-08-28T20:05:22.540245Z",
     "start_time": "2022-08-28T20:05:22.466519Z"
    },
    "hidden": true
   },
   "outputs": [
    {
     "data": {
      "text/plain": [
       "user_id                  0\n",
       "transaction_timestamp    0\n",
       "service                  0\n",
       "phone_operator           0\n",
       "status                   1\n",
       "pricepoint               0\n",
       "dtype: int64"
      ]
     },
     "execution_count": 14,
     "metadata": {},
     "output_type": "execute_result"
    }
   ],
   "source": [
    "transac.isna().sum()"
   ]
  },
  {
   "cell_type": "code",
   "execution_count": 15,
   "id": "c4bca70c",
   "metadata": {
    "ExecuteTime": {
     "end_time": "2022-08-28T20:05:22.565558Z",
     "start_time": "2022-08-28T20:05:22.544861Z"
    },
    "hidden": true
   },
   "outputs": [
    {
     "data": {
      "text/plain": [
       "14825"
      ]
     },
     "execution_count": 15,
     "metadata": {},
     "output_type": "execute_result"
    }
   ],
   "source": [
    "len(transac['user_id'].unique())"
   ]
  },
  {
   "cell_type": "code",
   "execution_count": 16,
   "id": "1b6c7fb7",
   "metadata": {
    "ExecuteTime": {
     "end_time": "2022-08-28T20:05:22.595551Z",
     "start_time": "2022-08-28T20:05:22.569994Z"
    },
    "hidden": true
   },
   "outputs": [
    {
     "name": "stdout",
     "output_type": "stream",
     "text": [
      "ps    22455\n",
      "ma    13817\n",
      "cl    13102\n",
      "tv     7006\n",
      "gc     6497\n",
      "Name: service, dtype: int64\n",
      "C    23730\n",
      "B    21131\n",
      "A    18016\n",
      "Name: phone_operator, dtype: int64\n",
      "Failed       45273\n",
      "Delivered    17601\n",
      "Pending          2\n",
      "Name: status, dtype: int64\n",
      "3.6        62876\n",
      "12345.6        1\n",
      "Name: pricepoint, dtype: int64\n"
     ]
    }
   ],
   "source": [
    "# investigating how the data is 'distribuited' among the variables\n",
    "columns = ['service', 'phone_operator', 'status', 'pricepoint']\n",
    "\n",
    "for i in transac[columns]:\n",
    "    print(transac[i].value_counts())"
   ]
  },
  {
   "cell_type": "code",
   "execution_count": 17,
   "id": "7c7e6571",
   "metadata": {
    "ExecuteTime": {
     "end_time": "2022-08-28T20:05:22.619079Z",
     "start_time": "2022-08-28T20:05:22.600254Z"
    },
    "hidden": true
   },
   "outputs": [
    {
     "name": "stdout",
     "output_type": "stream",
     "text": [
      "2022-07-27 05:34:32.000000 2022-06-01 00:06:24.000000\n"
     ]
    }
   ],
   "source": [
    "#looking for wrong dates\n",
    "print(transac['transaction_timestamp'].max(), transac['transaction_timestamp'].min())"
   ]
  },
  {
   "cell_type": "code",
   "execution_count": 18,
   "id": "b194efbf",
   "metadata": {
    "ExecuteTime": {
     "end_time": "2022-08-28T20:05:22.643014Z",
     "start_time": "2022-08-28T20:05:22.623482Z"
    },
    "hidden": true,
    "scrolled": true
   },
   "outputs": [
    {
     "name": "stdout",
     "output_type": "stream",
     "text": [
      "12345.6 3.6\n"
     ]
    },
    {
     "data": {
      "text/html": [
       "<div>\n",
       "<style scoped>\n",
       "    .dataframe tbody tr th:only-of-type {\n",
       "        vertical-align: middle;\n",
       "    }\n",
       "\n",
       "    .dataframe tbody tr th {\n",
       "        vertical-align: top;\n",
       "    }\n",
       "\n",
       "    .dataframe thead th {\n",
       "        text-align: right;\n",
       "    }\n",
       "</style>\n",
       "<table border=\"1\" class=\"dataframe\">\n",
       "  <thead>\n",
       "    <tr style=\"text-align: right;\">\n",
       "      <th></th>\n",
       "      <th>user_id</th>\n",
       "      <th>transaction_timestamp</th>\n",
       "      <th>service</th>\n",
       "      <th>phone_operator</th>\n",
       "      <th>status</th>\n",
       "      <th>pricepoint</th>\n",
       "    </tr>\n",
       "  </thead>\n",
       "  <tbody>\n",
       "    <tr>\n",
       "      <th>61823</th>\n",
       "      <td>7d063d10e1af11ecbaa51f9ae3f5945d</td>\n",
       "      <td>2022-07-27 05:32:32.000000</td>\n",
       "      <td>ps</td>\n",
       "      <td>C</td>\n",
       "      <td>Delivered</td>\n",
       "      <td>12345.6</td>\n",
       "    </tr>\n",
       "  </tbody>\n",
       "</table>\n",
       "</div>"
      ],
      "text/plain": [
       "                                user_id       transaction_timestamp service  \\\n",
       "61823  7d063d10e1af11ecbaa51f9ae3f5945d  2022-07-27 05:32:32.000000      ps   \n",
       "\n",
       "      phone_operator     status  pricepoint  \n",
       "61823              C  Delivered     12345.6  "
      ]
     },
     "execution_count": 18,
     "metadata": {},
     "output_type": "execute_result"
    }
   ],
   "source": [
    "#looking for wrong pricepoint\n",
    "print(transac['pricepoint'].max(), transac['pricepoint'].min())\n",
    "\n",
    "transac[transac['pricepoint'] == 12345.6]"
   ]
  },
  {
   "cell_type": "code",
   "execution_count": 19,
   "id": "e9ff1388",
   "metadata": {
    "ExecuteTime": {
     "end_time": "2022-08-28T20:05:22.654560Z",
     "start_time": "2022-08-28T20:05:22.647686Z"
    },
    "hidden": true
   },
   "outputs": [],
   "source": [
    "transac.loc[transac['pricepoint'] > 3.6, 'pricepoint'] = 3.6"
   ]
  },
  {
   "cell_type": "code",
   "execution_count": 20,
   "id": "e31ec116",
   "metadata": {
    "ExecuteTime": {
     "end_time": "2022-08-28T20:05:22.667924Z",
     "start_time": "2022-08-28T20:05:22.659435Z"
    },
    "hidden": true
   },
   "outputs": [
    {
     "name": "stdout",
     "output_type": "stream",
     "text": [
      "3.6 3.6\n"
     ]
    }
   ],
   "source": [
    "print(transac['pricepoint'].max(), transac['pricepoint'].min())"
   ]
  },
  {
   "cell_type": "code",
   "execution_count": 21,
   "id": "848a735d",
   "metadata": {
    "ExecuteTime": {
     "end_time": "2022-08-28T20:05:22.744385Z",
     "start_time": "2022-08-28T20:05:22.671936Z"
    },
    "hidden": true
   },
   "outputs": [
    {
     "data": {
      "text/plain": [
       "user_id                  0\n",
       "transaction_timestamp    0\n",
       "service                  0\n",
       "phone_operator           0\n",
       "status                   0\n",
       "pricepoint               0\n",
       "dtype: int64"
      ]
     },
     "execution_count": 21,
     "metadata": {},
     "output_type": "execute_result"
    }
   ],
   "source": [
    "# fill na values - once it's only 1 records, let's assume the most common value for this variable\n",
    "transac['status'] = transac['status'].fillna('Failed')\n",
    "\n",
    "transac.isna().sum()"
   ]
  },
  {
   "cell_type": "code",
   "execution_count": 22,
   "id": "0e43ebee",
   "metadata": {
    "ExecuteTime": {
     "end_time": "2022-08-28T20:05:22.774810Z",
     "start_time": "2022-08-28T20:05:22.748989Z"
    },
    "hidden": true
   },
   "outputs": [],
   "source": [
    "#changing data type\n",
    "transac['transaction_timestamp'] = transac['transaction_timestamp'].astype('datetime64')"
   ]
  },
  {
   "cell_type": "markdown",
   "id": "2b1c6d73",
   "metadata": {},
   "source": [
    "# USERS & TRANSACTIONS"
   ]
  },
  {
   "cell_type": "markdown",
   "id": "57b98698",
   "metadata": {},
   "source": [
    "After the data was cleaned, we're going to merge both dataframes: users and transactions.\n",
    "This is going to make our analysis easier."
   ]
  },
  {
   "cell_type": "code",
   "execution_count": 23,
   "id": "e1096343",
   "metadata": {
    "ExecuteTime": {
     "end_time": "2022-08-28T20:05:22.807297Z",
     "start_time": "2022-08-28T20:05:22.778667Z"
    }
   },
   "outputs": [
    {
     "name": "stdout",
     "output_type": "stream",
     "text": [
      "14825 62877\n"
     ]
    }
   ],
   "source": [
    "print(len(users['user_id'].isin(transac['user_id'])), len(transac['user_id'].isin(users['user_id'])))\n",
    "    "
   ]
  },
  {
   "cell_type": "code",
   "execution_count": 24,
   "id": "0cad3434",
   "metadata": {
    "ExecuteTime": {
     "end_time": "2022-08-28T20:05:22.889645Z",
     "start_time": "2022-08-28T20:05:22.811537Z"
    }
   },
   "outputs": [
    {
     "data": {
      "text/plain": [
       "(62877, 14)"
      ]
     },
     "execution_count": 24,
     "metadata": {},
     "output_type": "execute_result"
    }
   ],
   "source": [
    "#merging two dataframes\n",
    "df = users.merge(transac, on = 'user_id', how = 'inner')\n",
    "df.shape"
   ]
  },
  {
   "cell_type": "code",
   "execution_count": 25,
   "id": "c1c8abd9",
   "metadata": {
    "ExecuteTime": {
     "end_time": "2022-08-28T20:05:22.902649Z",
     "start_time": "2022-08-28T20:05:22.894262Z"
    }
   },
   "outputs": [
    {
     "data": {
      "text/plain": [
       "Index(['user_id', 'subscription_date', 'phone_operator_x', 'os_name',\n",
       "       'os_version', 'affiliate', 'unsubscription_date', 'service_x',\n",
       "       'aggregator', 'transaction_timestamp', 'service_y', 'phone_operator_y',\n",
       "       'status', 'pricepoint'],\n",
       "      dtype='object')"
      ]
     },
     "execution_count": 25,
     "metadata": {},
     "output_type": "execute_result"
    }
   ],
   "source": [
    "df.columns"
   ]
  },
  {
   "cell_type": "code",
   "execution_count": 26,
   "id": "496056e3",
   "metadata": {
    "ExecuteTime": {
     "end_time": "2022-08-28T20:05:23.023787Z",
     "start_time": "2022-08-28T20:05:22.907661Z"
    }
   },
   "outputs": [
    {
     "data": {
      "text/plain": [
       "user_id                      0\n",
       "subscription_date            0\n",
       "phone_operator_x             0\n",
       "os_name                    861\n",
       "os_version                 871\n",
       "affiliate                  165\n",
       "unsubscription_date      50690\n",
       "service_x                    0\n",
       "aggregator                   0\n",
       "transaction_timestamp        0\n",
       "service_y                    0\n",
       "phone_operator_y             0\n",
       "status                       0\n",
       "pricepoint                   0\n",
       "dtype: int64"
      ]
     },
     "execution_count": 26,
     "metadata": {},
     "output_type": "execute_result"
    }
   ],
   "source": [
    "df.isna().sum()"
   ]
  },
  {
   "cell_type": "code",
   "execution_count": 27,
   "id": "a070131e",
   "metadata": {
    "ExecuteTime": {
     "end_time": "2022-08-28T20:05:23.063184Z",
     "start_time": "2022-08-28T20:05:23.028928Z"
    }
   },
   "outputs": [
    {
     "name": "stdout",
     "output_type": "stream",
     "text": [
      "(12, 14)\n",
      "(0, 14)\n"
     ]
    }
   ],
   "source": [
    "# there are 2 columns we have in both dataframes\n",
    "# checking whether the values are the same\n",
    "print(df[df['phone_operator_x'] != df['phone_operator_y']].shape)\n",
    "print(df[df['service_x'] != df['service_x']].shape)"
   ]
  },
  {
   "cell_type": "code",
   "execution_count": 28,
   "id": "5cff5bd0",
   "metadata": {
    "ExecuteTime": {
     "end_time": "2022-08-28T20:05:23.117239Z",
     "start_time": "2022-08-28T20:05:23.081212Z"
    }
   },
   "outputs": [
    {
     "data": {
      "text/html": [
       "<div>\n",
       "<style scoped>\n",
       "    .dataframe tbody tr th:only-of-type {\n",
       "        vertical-align: middle;\n",
       "    }\n",
       "\n",
       "    .dataframe tbody tr th {\n",
       "        vertical-align: top;\n",
       "    }\n",
       "\n",
       "    .dataframe thead th {\n",
       "        text-align: right;\n",
       "    }\n",
       "</style>\n",
       "<table border=\"1\" class=\"dataframe\">\n",
       "  <thead>\n",
       "    <tr style=\"text-align: right;\">\n",
       "      <th></th>\n",
       "      <th>user_id</th>\n",
       "      <th>subscription_date</th>\n",
       "      <th>phone_operator</th>\n",
       "      <th>os_name</th>\n",
       "      <th>os_version</th>\n",
       "      <th>affiliate</th>\n",
       "      <th>unsubscription_date</th>\n",
       "      <th>aggregator</th>\n",
       "      <th>transaction_timestamp</th>\n",
       "      <th>service</th>\n",
       "      <th>status</th>\n",
       "      <th>pricepoint</th>\n",
       "    </tr>\n",
       "  </thead>\n",
       "  <tbody>\n",
       "    <tr>\n",
       "      <th>0</th>\n",
       "      <td>4b0625b0e19a11ec8a541fcc86ad2588</td>\n",
       "      <td>2022-06-01 11:03:06</td>\n",
       "      <td>C</td>\n",
       "      <td>NaN</td>\n",
       "      <td>NaN</td>\n",
       "      <td>aff_4</td>\n",
       "      <td>2022-06-01 12:23:34</td>\n",
       "      <td>ABC</td>\n",
       "      <td>2022-06-01 11:03:06</td>\n",
       "      <td>ps</td>\n",
       "      <td>Failed</td>\n",
       "      <td>3.6</td>\n",
       "    </tr>\n",
       "    <tr>\n",
       "      <th>1</th>\n",
       "      <td>4058b340e19e11ec95703f2faa3b39a3</td>\n",
       "      <td>2022-06-01 11:32:06</td>\n",
       "      <td>B</td>\n",
       "      <td>Android</td>\n",
       "      <td>8.0</td>\n",
       "      <td>aff_4</td>\n",
       "      <td>NaT</td>\n",
       "      <td>ABC</td>\n",
       "      <td>2022-06-01 11:32:06</td>\n",
       "      <td>gc</td>\n",
       "      <td>Failed</td>\n",
       "      <td>3.6</td>\n",
       "    </tr>\n",
       "    <tr>\n",
       "      <th>2</th>\n",
       "      <td>4058b340e19e11ec95703f2faa3b39a3</td>\n",
       "      <td>2022-06-01 11:32:06</td>\n",
       "      <td>B</td>\n",
       "      <td>Android</td>\n",
       "      <td>8.0</td>\n",
       "      <td>aff_4</td>\n",
       "      <td>NaT</td>\n",
       "      <td>ABC</td>\n",
       "      <td>2022-06-08 05:16:32</td>\n",
       "      <td>gc</td>\n",
       "      <td>Failed</td>\n",
       "      <td>3.6</td>\n",
       "    </tr>\n",
       "  </tbody>\n",
       "</table>\n",
       "</div>"
      ],
      "text/plain": [
       "                            user_id   subscription_date phone_operator  \\\n",
       "0  4b0625b0e19a11ec8a541fcc86ad2588 2022-06-01 11:03:06              C   \n",
       "1  4058b340e19e11ec95703f2faa3b39a3 2022-06-01 11:32:06              B   \n",
       "2  4058b340e19e11ec95703f2faa3b39a3 2022-06-01 11:32:06              B   \n",
       "\n",
       "   os_name  os_version affiliate unsubscription_date aggregator  \\\n",
       "0      NaN         NaN     aff_4 2022-06-01 12:23:34        ABC   \n",
       "1  Android         8.0     aff_4                 NaT        ABC   \n",
       "2  Android         8.0     aff_4                 NaT        ABC   \n",
       "\n",
       "  transaction_timestamp service  status  pricepoint  \n",
       "0   2022-06-01 11:03:06      ps  Failed         3.6  \n",
       "1   2022-06-01 11:32:06      gc  Failed         3.6  \n",
       "2   2022-06-08 05:16:32      gc  Failed         3.6  "
      ]
     },
     "execution_count": 28,
     "metadata": {},
     "output_type": "execute_result"
    }
   ],
   "source": [
    "# column: phone_operator_x only 12 rows are different from each other.\n",
    "# its pretty low, so let's assume the users table is the correct one\n",
    "df = df.drop(columns=({'phone_operator_y', 'service_x'}))\n",
    "df = df.rename(columns=({'phone_operator_x' : 'phone_operator',\n",
    "                        'service_y' : 'service'}))\n",
    "\n",
    "df.head(3)"
   ]
  },
  {
   "cell_type": "markdown",
   "id": "92c316f2",
   "metadata": {},
   "source": [
    "## DATA ANALYSIS - MERGED DATAFRAME"
   ]
  },
  {
   "cell_type": "markdown",
   "id": "fad142e7",
   "metadata": {},
   "source": [
    "Once both data frame is merged, in this section we're going to analyze the data.\n",
    "\n",
    "Data analysis might be tricky sometimes, so we're going to use the following mind map as a guide. In its center there's the target variable, which is the Transaction variable and consequently the Price Point, then, there are all variables considered as dependents.\n",
    "\n",
    "In other words, we listed all the variables that we considered to be strong enough to affect our target variable the most.\n",
    "\n",
    "Note: Initially, these are some hypotheses. As we're going through the notebook and all the needed analysis we'll have the answers whether they are true or not.\n",
    "\n",
    "\n",
    "\n",
    "\n",
    "<img style=\"display: block;-webkit-user-select: none;margin: auto;cursor: zoom-in;background-color: hsl(0, 0%, 90%);transition: background-color 300ms;\" src=\"https://i.ibb.co/p3rJChd/mind-map.png\" width=\"717\" height=\"449\">\n",
    "\n",
    "***"
   ]
  },
  {
   "cell_type": "markdown",
   "id": "9870a8bd",
   "metadata": {},
   "source": [
    "### SUBSCRIPTION DATE"
   ]
  },
  {
   "cell_type": "code",
   "execution_count": 29,
   "id": "b8b76d25",
   "metadata": {
    "ExecuteTime": {
     "end_time": "2022-08-28T20:05:23.129593Z",
     "start_time": "2022-08-28T20:05:23.122180Z"
    }
   },
   "outputs": [],
   "source": [
    "df_subs = df.copy(deep = True)"
   ]
  },
  {
   "cell_type": "code",
   "execution_count": 30,
   "id": "dc3dc740",
   "metadata": {
    "ExecuteTime": {
     "end_time": "2022-08-28T20:05:23.175178Z",
     "start_time": "2022-08-28T20:05:23.133753Z"
    }
   },
   "outputs": [
    {
     "data": {
      "text/html": [
       "<div>\n",
       "<style scoped>\n",
       "    .dataframe tbody tr th:only-of-type {\n",
       "        vertical-align: middle;\n",
       "    }\n",
       "\n",
       "    .dataframe tbody tr th {\n",
       "        vertical-align: top;\n",
       "    }\n",
       "\n",
       "    .dataframe thead th {\n",
       "        text-align: right;\n",
       "    }\n",
       "</style>\n",
       "<table border=\"1\" class=\"dataframe\">\n",
       "  <thead>\n",
       "    <tr style=\"text-align: right;\">\n",
       "      <th></th>\n",
       "      <th>user_id</th>\n",
       "      <th>subscription_date</th>\n",
       "      <th>phone_operator</th>\n",
       "      <th>os_name</th>\n",
       "      <th>os_version</th>\n",
       "      <th>affiliate</th>\n",
       "      <th>unsubscription_date</th>\n",
       "      <th>aggregator</th>\n",
       "      <th>transaction_timestamp</th>\n",
       "      <th>service</th>\n",
       "      <th>status</th>\n",
       "      <th>pricepoint</th>\n",
       "      <th>day_of_week</th>\n",
       "    </tr>\n",
       "  </thead>\n",
       "  <tbody>\n",
       "    <tr>\n",
       "      <th>0</th>\n",
       "      <td>4b0625b0e19a11ec8a541fcc86ad2588</td>\n",
       "      <td>2022-06-01 11:03:06</td>\n",
       "      <td>C</td>\n",
       "      <td>NaN</td>\n",
       "      <td>NaN</td>\n",
       "      <td>aff_4</td>\n",
       "      <td>2022-06-01 12:23:34</td>\n",
       "      <td>ABC</td>\n",
       "      <td>2022-06-01 11:03:06</td>\n",
       "      <td>ps</td>\n",
       "      <td>Failed</td>\n",
       "      <td>3.6</td>\n",
       "      <td>wednesday</td>\n",
       "    </tr>\n",
       "    <tr>\n",
       "      <th>1</th>\n",
       "      <td>4058b340e19e11ec95703f2faa3b39a3</td>\n",
       "      <td>2022-06-01 11:32:06</td>\n",
       "      <td>B</td>\n",
       "      <td>Android</td>\n",
       "      <td>8.0</td>\n",
       "      <td>aff_4</td>\n",
       "      <td>NaT</td>\n",
       "      <td>ABC</td>\n",
       "      <td>2022-06-01 11:32:06</td>\n",
       "      <td>gc</td>\n",
       "      <td>Failed</td>\n",
       "      <td>3.6</td>\n",
       "      <td>wednesday</td>\n",
       "    </tr>\n",
       "    <tr>\n",
       "      <th>2</th>\n",
       "      <td>4058b340e19e11ec95703f2faa3b39a3</td>\n",
       "      <td>2022-06-01 11:32:06</td>\n",
       "      <td>B</td>\n",
       "      <td>Android</td>\n",
       "      <td>8.0</td>\n",
       "      <td>aff_4</td>\n",
       "      <td>NaT</td>\n",
       "      <td>ABC</td>\n",
       "      <td>2022-06-08 05:16:32</td>\n",
       "      <td>gc</td>\n",
       "      <td>Failed</td>\n",
       "      <td>3.6</td>\n",
       "      <td>wednesday</td>\n",
       "    </tr>\n",
       "    <tr>\n",
       "      <th>3</th>\n",
       "      <td>4058b340e19e11ec95703f2faa3b39a3</td>\n",
       "      <td>2022-06-01 11:32:06</td>\n",
       "      <td>B</td>\n",
       "      <td>Android</td>\n",
       "      <td>8.0</td>\n",
       "      <td>aff_4</td>\n",
       "      <td>NaT</td>\n",
       "      <td>ABC</td>\n",
       "      <td>2022-07-27 05:31:32</td>\n",
       "      <td>gc</td>\n",
       "      <td>Failed</td>\n",
       "      <td>3.6</td>\n",
       "      <td>wednesday</td>\n",
       "    </tr>\n",
       "    <tr>\n",
       "      <th>4</th>\n",
       "      <td>4058b340e19e11ec95703f2faa3b39a3</td>\n",
       "      <td>2022-06-01 11:32:06</td>\n",
       "      <td>B</td>\n",
       "      <td>Android</td>\n",
       "      <td>8.0</td>\n",
       "      <td>aff_4</td>\n",
       "      <td>NaT</td>\n",
       "      <td>ABC</td>\n",
       "      <td>2022-06-15 05:16:32</td>\n",
       "      <td>gc</td>\n",
       "      <td>Delivered</td>\n",
       "      <td>3.6</td>\n",
       "      <td>wednesday</td>\n",
       "    </tr>\n",
       "    <tr>\n",
       "      <th>...</th>\n",
       "      <td>...</td>\n",
       "      <td>...</td>\n",
       "      <td>...</td>\n",
       "      <td>...</td>\n",
       "      <td>...</td>\n",
       "      <td>...</td>\n",
       "      <td>...</td>\n",
       "      <td>...</td>\n",
       "      <td>...</td>\n",
       "      <td>...</td>\n",
       "      <td>...</td>\n",
       "      <td>...</td>\n",
       "      <td>...</td>\n",
       "    </tr>\n",
       "    <tr>\n",
       "      <th>62872</th>\n",
       "      <td>e82948a0f01211ec989b6b01af70e4c0</td>\n",
       "      <td>2022-06-19 21:02:30</td>\n",
       "      <td>C</td>\n",
       "      <td>Android</td>\n",
       "      <td>9.0</td>\n",
       "      <td>aff_4</td>\n",
       "      <td>2022-07-24 07:09:18</td>\n",
       "      <td>ABC</td>\n",
       "      <td>2022-06-26 05:17:32</td>\n",
       "      <td>ps</td>\n",
       "      <td>Delivered</td>\n",
       "      <td>3.6</td>\n",
       "      <td>sunday</td>\n",
       "    </tr>\n",
       "    <tr>\n",
       "      <th>62873</th>\n",
       "      <td>e82948a0f01211ec989b6b01af70e4c0</td>\n",
       "      <td>2022-06-19 21:02:30</td>\n",
       "      <td>C</td>\n",
       "      <td>Android</td>\n",
       "      <td>9.0</td>\n",
       "      <td>aff_4</td>\n",
       "      <td>2022-07-24 07:09:18</td>\n",
       "      <td>ABC</td>\n",
       "      <td>2022-07-03 05:17:32</td>\n",
       "      <td>ps</td>\n",
       "      <td>Delivered</td>\n",
       "      <td>3.6</td>\n",
       "      <td>sunday</td>\n",
       "    </tr>\n",
       "    <tr>\n",
       "      <th>62874</th>\n",
       "      <td>e82948a0f01211ec989b6b01af70e4c0</td>\n",
       "      <td>2022-06-19 21:02:30</td>\n",
       "      <td>C</td>\n",
       "      <td>Android</td>\n",
       "      <td>9.0</td>\n",
       "      <td>aff_4</td>\n",
       "      <td>2022-07-24 07:09:18</td>\n",
       "      <td>ABC</td>\n",
       "      <td>2022-07-10 05:32:32</td>\n",
       "      <td>ps</td>\n",
       "      <td>Delivered</td>\n",
       "      <td>3.6</td>\n",
       "      <td>sunday</td>\n",
       "    </tr>\n",
       "    <tr>\n",
       "      <th>62875</th>\n",
       "      <td>e82948a0f01211ec989b6b01af70e4c0</td>\n",
       "      <td>2022-06-19 21:02:30</td>\n",
       "      <td>C</td>\n",
       "      <td>Android</td>\n",
       "      <td>9.0</td>\n",
       "      <td>aff_4</td>\n",
       "      <td>2022-07-24 07:09:18</td>\n",
       "      <td>ABC</td>\n",
       "      <td>2022-07-17 05:32:32</td>\n",
       "      <td>ps</td>\n",
       "      <td>Delivered</td>\n",
       "      <td>3.6</td>\n",
       "      <td>sunday</td>\n",
       "    </tr>\n",
       "    <tr>\n",
       "      <th>62876</th>\n",
       "      <td>e82948a0f01211ec989b6b01af70e4c0</td>\n",
       "      <td>2022-06-19 21:02:30</td>\n",
       "      <td>C</td>\n",
       "      <td>Android</td>\n",
       "      <td>9.0</td>\n",
       "      <td>aff_4</td>\n",
       "      <td>2022-07-24 07:09:18</td>\n",
       "      <td>ABC</td>\n",
       "      <td>2022-07-24 05:32:33</td>\n",
       "      <td>ps</td>\n",
       "      <td>Delivered</td>\n",
       "      <td>3.6</td>\n",
       "      <td>sunday</td>\n",
       "    </tr>\n",
       "  </tbody>\n",
       "</table>\n",
       "<p>62877 rows × 13 columns</p>\n",
       "</div>"
      ],
      "text/plain": [
       "                                user_id   subscription_date phone_operator  \\\n",
       "0      4b0625b0e19a11ec8a541fcc86ad2588 2022-06-01 11:03:06              C   \n",
       "1      4058b340e19e11ec95703f2faa3b39a3 2022-06-01 11:32:06              B   \n",
       "2      4058b340e19e11ec95703f2faa3b39a3 2022-06-01 11:32:06              B   \n",
       "3      4058b340e19e11ec95703f2faa3b39a3 2022-06-01 11:32:06              B   \n",
       "4      4058b340e19e11ec95703f2faa3b39a3 2022-06-01 11:32:06              B   \n",
       "...                                 ...                 ...            ...   \n",
       "62872  e82948a0f01211ec989b6b01af70e4c0 2022-06-19 21:02:30              C   \n",
       "62873  e82948a0f01211ec989b6b01af70e4c0 2022-06-19 21:02:30              C   \n",
       "62874  e82948a0f01211ec989b6b01af70e4c0 2022-06-19 21:02:30              C   \n",
       "62875  e82948a0f01211ec989b6b01af70e4c0 2022-06-19 21:02:30              C   \n",
       "62876  e82948a0f01211ec989b6b01af70e4c0 2022-06-19 21:02:30              C   \n",
       "\n",
       "       os_name  os_version affiliate unsubscription_date aggregator  \\\n",
       "0          NaN         NaN     aff_4 2022-06-01 12:23:34        ABC   \n",
       "1      Android         8.0     aff_4                 NaT        ABC   \n",
       "2      Android         8.0     aff_4                 NaT        ABC   \n",
       "3      Android         8.0     aff_4                 NaT        ABC   \n",
       "4      Android         8.0     aff_4                 NaT        ABC   \n",
       "...        ...         ...       ...                 ...        ...   \n",
       "62872  Android         9.0     aff_4 2022-07-24 07:09:18        ABC   \n",
       "62873  Android         9.0     aff_4 2022-07-24 07:09:18        ABC   \n",
       "62874  Android         9.0     aff_4 2022-07-24 07:09:18        ABC   \n",
       "62875  Android         9.0     aff_4 2022-07-24 07:09:18        ABC   \n",
       "62876  Android         9.0     aff_4 2022-07-24 07:09:18        ABC   \n",
       "\n",
       "      transaction_timestamp service     status  pricepoint day_of_week  \n",
       "0       2022-06-01 11:03:06      ps     Failed         3.6   wednesday  \n",
       "1       2022-06-01 11:32:06      gc     Failed         3.6   wednesday  \n",
       "2       2022-06-08 05:16:32      gc     Failed         3.6   wednesday  \n",
       "3       2022-07-27 05:31:32      gc     Failed         3.6   wednesday  \n",
       "4       2022-06-15 05:16:32      gc  Delivered         3.6   wednesday  \n",
       "...                     ...     ...        ...         ...         ...  \n",
       "62872   2022-06-26 05:17:32      ps  Delivered         3.6      sunday  \n",
       "62873   2022-07-03 05:17:32      ps  Delivered         3.6      sunday  \n",
       "62874   2022-07-10 05:32:32      ps  Delivered         3.6      sunday  \n",
       "62875   2022-07-17 05:32:32      ps  Delivered         3.6      sunday  \n",
       "62876   2022-07-24 05:32:33      ps  Delivered         3.6      sunday  \n",
       "\n",
       "[62877 rows x 13 columns]"
      ]
     },
     "execution_count": 30,
     "metadata": {},
     "output_type": "execute_result"
    }
   ],
   "source": [
    "create_days_of_week(df_subs, 'subscription_date')"
   ]
  },
  {
   "cell_type": "code",
   "execution_count": 31,
   "id": "091a8119",
   "metadata": {
    "ExecuteTime": {
     "end_time": "2022-08-28T20:05:24.662124Z",
     "start_time": "2022-08-28T20:05:23.179749Z"
    },
    "scrolled": false
   },
   "outputs": [
    {
     "data": {
      "image/png": "[encoded data removed]",
      "text/plain": [
       "<Figure size 1500x400 with 1 Axes>"
      ]
     },
     "metadata": {},
     "output_type": "display_data"
    }
   ],
   "source": [
    "df_subs['subscription_date'] = df_subs['subscription_date'].dt.strftime('%y-%m-%d')\n",
    "\n",
    "sns.set_theme()\n",
    "plt.figure(figsize = (15, 4))\n",
    "aux = df_subs.groupby('subscription_date')['user_id'].count()\n",
    "sns.lineplot(data = aux , color = 'teal')\n",
    "set_chart_config('count of subscriptions by day', '', '')\n",
    "plt.xticks(rotation = 90);"
   ]
  },
  {
   "cell_type": "code",
   "execution_count": 32,
   "id": "7af02e84",
   "metadata": {
    "ExecuteTime": {
     "end_time": "2022-08-28T20:05:25.287329Z",
     "start_time": "2022-08-28T20:05:24.665644Z"
    }
   },
   "outputs": [
    {
     "data": {
      "image/png": "[encoded data removed]",
      "text/plain": [
       "<Figure size 800x300 with 1 Axes>"
      ]
     },
     "metadata": {},
     "output_type": "display_data"
    }
   ],
   "source": [
    "sns.set_theme()\n",
    "plt.figure(figsize = (8, 3))\n",
    "\n",
    "order = df_subs['day_of_week'].value_counts().to_frame().index\n",
    "sns.countplot(data = df_subs, hue = 'day_of_week', x= 'day_of_week', order = order, palette = 'crest')\n",
    "set_chart_config('count of subscriptions by day of the week', '', '')\n",
    "plt.legend(bbox_to_anchor=(1.05, 1), loc=2, borderaxespad=0.);\n"
   ]
  },
  {
   "cell_type": "markdown",
   "id": "28e144a5",
   "metadata": {},
   "source": [
    "***\n",
    "\n",
    "1. Looking at the count of subscriptions per day, we clearly see a decrease.\n",
    "2. There're two peaks, both at the beginning of June.\n",
    "3. Wednesday is the day which more users have signed\n",
    "4. Thursday, on the other hand, is the day with fewer users subscribing.\n",
    "5. There's also a really small value on June 23rd - possible an issue\n",
    "\n",
    "***"
   ]
  },
  {
   "cell_type": "markdown",
   "id": "ec8f7625",
   "metadata": {},
   "source": [
    "###  UNSUBSCRIPTION DATE"
   ]
  },
  {
   "cell_type": "code",
   "execution_count": 33,
   "id": "374cace0",
   "metadata": {
    "ExecuteTime": {
     "end_time": "2022-08-28T20:05:25.311605Z",
     "start_time": "2022-08-28T20:05:25.290709Z"
    }
   },
   "outputs": [],
   "source": [
    "# have unsubscripted\n",
    "df_unsub = df_subs[~df_subs['unsubscription_date'].isna()]"
   ]
  },
  {
   "cell_type": "code",
   "execution_count": 34,
   "id": "42f53a01",
   "metadata": {
    "ExecuteTime": {
     "end_time": "2022-08-28T20:05:25.484768Z",
     "start_time": "2022-08-28T20:05:25.314769Z"
    }
   },
   "outputs": [],
   "source": [
    "#removing the hour, min and sec from our datetime columns\n",
    "df_unsub = df_unsub.copy(deep = True)\n",
    "df_unsub['subscription_date'] = pd.to_datetime(df_unsub['subscription_date'], format='%y-%m-%d')\n",
    "\n",
    "df_unsub['unsubscription_date'] = df_unsub['unsubscription_date'].dt.strftime('%y-%m-%d')\n",
    "df_unsub['unsubscription_date'] = pd.to_datetime(df_unsub['unsubscription_date'], format='%y-%m-%d')"
   ]
  },
  {
   "cell_type": "code",
   "execution_count": 35,
   "id": "3710560e",
   "metadata": {
    "ExecuteTime": {
     "end_time": "2022-08-28T20:05:25.497606Z",
     "start_time": "2022-08-28T20:05:25.489574Z"
    }
   },
   "outputs": [],
   "source": [
    "# creating columns = days from subs to unsub\n",
    "df_unsub['days_to_unsub'] = df_unsub['unsubscription_date'] - df_unsub['subscription_date']"
   ]
  },
  {
   "cell_type": "code",
   "execution_count": 36,
   "id": "4ce8c5c9",
   "metadata": {
    "ExecuteTime": {
     "end_time": "2022-08-28T20:05:25.511082Z",
     "start_time": "2022-08-28T20:05:25.501864Z"
    }
   },
   "outputs": [],
   "source": [
    "df_unsub = df_unsub[['user_id', 'subscription_date', 'unsubscription_date', 'days_to_unsub']]"
   ]
  },
  {
   "cell_type": "code",
   "execution_count": 37,
   "id": "cfd64eee",
   "metadata": {
    "ExecuteTime": {
     "end_time": "2022-08-28T20:05:25.529109Z",
     "start_time": "2022-08-28T20:05:25.515257Z"
    }
   },
   "outputs": [],
   "source": [
    "# removing duplicates\n",
    "df_unsub = df_unsub.drop_duplicates()\n",
    "\n",
    "# changing timedelta64[ns] type to float\n",
    "df_unsub['days_to_unsub'] = df_unsub['days_to_unsub'].astype('timedelta64[D]')"
   ]
  },
  {
   "cell_type": "code",
   "execution_count": 38,
   "id": "44fec689",
   "metadata": {
    "ExecuteTime": {
     "end_time": "2022-08-28T20:05:25.556154Z",
     "start_time": "2022-08-28T20:05:25.532820Z"
    }
   },
   "outputs": [
    {
     "data": {
      "text/html": [
       "<div>\n",
       "<style scoped>\n",
       "    .dataframe tbody tr th:only-of-type {\n",
       "        vertical-align: middle;\n",
       "    }\n",
       "\n",
       "    .dataframe tbody tr th {\n",
       "        vertical-align: top;\n",
       "    }\n",
       "\n",
       "    .dataframe thead th {\n",
       "        text-align: right;\n",
       "    }\n",
       "</style>\n",
       "<table border=\"1\" class=\"dataframe\">\n",
       "  <thead>\n",
       "    <tr style=\"text-align: right;\">\n",
       "      <th></th>\n",
       "      <th>days_to_unsub</th>\n",
       "    </tr>\n",
       "  </thead>\n",
       "  <tbody>\n",
       "    <tr>\n",
       "      <th>0.0</th>\n",
       "      <td>0.643207</td>\n",
       "    </tr>\n",
       "    <tr>\n",
       "      <th>14.0</th>\n",
       "      <td>0.133689</td>\n",
       "    </tr>\n",
       "    <tr>\n",
       "      <th>7.0</th>\n",
       "      <td>0.038217</td>\n",
       "    </tr>\n",
       "    <tr>\n",
       "      <th>1.0</th>\n",
       "      <td>0.027978</td>\n",
       "    </tr>\n",
       "    <tr>\n",
       "      <th>21.0</th>\n",
       "      <td>0.025671</td>\n",
       "    </tr>\n",
       "    <tr>\n",
       "      <th>35.0</th>\n",
       "      <td>0.018027</td>\n",
       "    </tr>\n",
       "    <tr>\n",
       "      <th>15.0</th>\n",
       "      <td>0.011393</td>\n",
       "    </tr>\n",
       "    <tr>\n",
       "      <th>28.0</th>\n",
       "      <td>0.010239</td>\n",
       "    </tr>\n",
       "    <tr>\n",
       "      <th>2.0</th>\n",
       "      <td>0.008797</td>\n",
       "    </tr>\n",
       "    <tr>\n",
       "      <th>8.0</th>\n",
       "      <td>0.005336</td>\n",
       "    </tr>\n",
       "    <tr>\n",
       "      <th>22.0</th>\n",
       "      <td>0.005192</td>\n",
       "    </tr>\n",
       "    <tr>\n",
       "      <th>42.0</th>\n",
       "      <td>0.005048</td>\n",
       "    </tr>\n",
       "    <tr>\n",
       "      <th>3.0</th>\n",
       "      <td>0.004471</td>\n",
       "    </tr>\n",
       "    <tr>\n",
       "      <th>9.0</th>\n",
       "      <td>0.004182</td>\n",
       "    </tr>\n",
       "    <tr>\n",
       "      <th>4.0</th>\n",
       "      <td>0.004182</td>\n",
       "    </tr>\n",
       "    <tr>\n",
       "      <th>16.0</th>\n",
       "      <td>0.003461</td>\n",
       "    </tr>\n",
       "    <tr>\n",
       "      <th>18.0</th>\n",
       "      <td>0.003317</td>\n",
       "    </tr>\n",
       "    <tr>\n",
       "      <th>31.0</th>\n",
       "      <td>0.002884</td>\n",
       "    </tr>\n",
       "    <tr>\n",
       "      <th>17.0</th>\n",
       "      <td>0.002596</td>\n",
       "    </tr>\n",
       "    <tr>\n",
       "      <th>24.0</th>\n",
       "      <td>0.002596</td>\n",
       "    </tr>\n",
       "    <tr>\n",
       "      <th>29.0</th>\n",
       "      <td>0.002596</td>\n",
       "    </tr>\n",
       "    <tr>\n",
       "      <th>36.0</th>\n",
       "      <td>0.002452</td>\n",
       "    </tr>\n",
       "    <tr>\n",
       "      <th>19.0</th>\n",
       "      <td>0.002452</td>\n",
       "    </tr>\n",
       "    <tr>\n",
       "      <th>10.0</th>\n",
       "      <td>0.002307</td>\n",
       "    </tr>\n",
       "    <tr>\n",
       "      <th>6.0</th>\n",
       "      <td>0.002307</td>\n",
       "    </tr>\n",
       "    <tr>\n",
       "      <th>5.0</th>\n",
       "      <td>0.002019</td>\n",
       "    </tr>\n",
       "    <tr>\n",
       "      <th>20.0</th>\n",
       "      <td>0.001731</td>\n",
       "    </tr>\n",
       "    <tr>\n",
       "      <th>30.0</th>\n",
       "      <td>0.001731</td>\n",
       "    </tr>\n",
       "    <tr>\n",
       "      <th>26.0</th>\n",
       "      <td>0.001731</td>\n",
       "    </tr>\n",
       "    <tr>\n",
       "      <th>13.0</th>\n",
       "      <td>0.001586</td>\n",
       "    </tr>\n",
       "    <tr>\n",
       "      <th>38.0</th>\n",
       "      <td>0.001586</td>\n",
       "    </tr>\n",
       "    <tr>\n",
       "      <th>49.0</th>\n",
       "      <td>0.001586</td>\n",
       "    </tr>\n",
       "    <tr>\n",
       "      <th>11.0</th>\n",
       "      <td>0.001442</td>\n",
       "    </tr>\n",
       "    <tr>\n",
       "      <th>43.0</th>\n",
       "      <td>0.001442</td>\n",
       "    </tr>\n",
       "    <tr>\n",
       "      <th>23.0</th>\n",
       "      <td>0.001298</td>\n",
       "    </tr>\n",
       "    <tr>\n",
       "      <th>27.0</th>\n",
       "      <td>0.001154</td>\n",
       "    </tr>\n",
       "    <tr>\n",
       "      <th>37.0</th>\n",
       "      <td>0.001154</td>\n",
       "    </tr>\n",
       "    <tr>\n",
       "      <th>33.0</th>\n",
       "      <td>0.001154</td>\n",
       "    </tr>\n",
       "    <tr>\n",
       "      <th>32.0</th>\n",
       "      <td>0.001154</td>\n",
       "    </tr>\n",
       "    <tr>\n",
       "      <th>39.0</th>\n",
       "      <td>0.001010</td>\n",
       "    </tr>\n",
       "    <tr>\n",
       "      <th>25.0</th>\n",
       "      <td>0.000865</td>\n",
       "    </tr>\n",
       "    <tr>\n",
       "      <th>12.0</th>\n",
       "      <td>0.000721</td>\n",
       "    </tr>\n",
       "    <tr>\n",
       "      <th>44.0</th>\n",
       "      <td>0.000721</td>\n",
       "    </tr>\n",
       "    <tr>\n",
       "      <th>40.0</th>\n",
       "      <td>0.000721</td>\n",
       "    </tr>\n",
       "    <tr>\n",
       "      <th>34.0</th>\n",
       "      <td>0.000577</td>\n",
       "    </tr>\n",
       "    <tr>\n",
       "      <th>41.0</th>\n",
       "      <td>0.000577</td>\n",
       "    </tr>\n",
       "    <tr>\n",
       "      <th>47.0</th>\n",
       "      <td>0.000288</td>\n",
       "    </tr>\n",
       "    <tr>\n",
       "      <th>48.0</th>\n",
       "      <td>0.000144</td>\n",
       "    </tr>\n",
       "    <tr>\n",
       "      <th>53.0</th>\n",
       "      <td>0.000144</td>\n",
       "    </tr>\n",
       "    <tr>\n",
       "      <th>46.0</th>\n",
       "      <td>0.000144</td>\n",
       "    </tr>\n",
       "    <tr>\n",
       "      <th>50.0</th>\n",
       "      <td>0.000144</td>\n",
       "    </tr>\n",
       "    <tr>\n",
       "      <th>51.0</th>\n",
       "      <td>0.000144</td>\n",
       "    </tr>\n",
       "    <tr>\n",
       "      <th>52.0</th>\n",
       "      <td>0.000144</td>\n",
       "    </tr>\n",
       "    <tr>\n",
       "      <th>45.0</th>\n",
       "      <td>0.000144</td>\n",
       "    </tr>\n",
       "    <tr>\n",
       "      <th>54.0</th>\n",
       "      <td>0.000144</td>\n",
       "    </tr>\n",
       "  </tbody>\n",
       "</table>\n",
       "</div>"
      ],
      "text/plain": [
       "      days_to_unsub\n",
       "0.0        0.643207\n",
       "14.0       0.133689\n",
       "7.0        0.038217\n",
       "1.0        0.027978\n",
       "21.0       0.025671\n",
       "35.0       0.018027\n",
       "15.0       0.011393\n",
       "28.0       0.010239\n",
       "2.0        0.008797\n",
       "8.0        0.005336\n",
       "22.0       0.005192\n",
       "42.0       0.005048\n",
       "3.0        0.004471\n",
       "9.0        0.004182\n",
       "4.0        0.004182\n",
       "16.0       0.003461\n",
       "18.0       0.003317\n",
       "31.0       0.002884\n",
       "17.0       0.002596\n",
       "24.0       0.002596\n",
       "29.0       0.002596\n",
       "36.0       0.002452\n",
       "19.0       0.002452\n",
       "10.0       0.002307\n",
       "6.0        0.002307\n",
       "5.0        0.002019\n",
       "20.0       0.001731\n",
       "30.0       0.001731\n",
       "26.0       0.001731\n",
       "13.0       0.001586\n",
       "38.0       0.001586\n",
       "49.0       0.001586\n",
       "11.0       0.001442\n",
       "43.0       0.001442\n",
       "23.0       0.001298\n",
       "27.0       0.001154\n",
       "37.0       0.001154\n",
       "33.0       0.001154\n",
       "32.0       0.001154\n",
       "39.0       0.001010\n",
       "25.0       0.000865\n",
       "12.0       0.000721\n",
       "44.0       0.000721\n",
       "40.0       0.000721\n",
       "34.0       0.000577\n",
       "41.0       0.000577\n",
       "47.0       0.000288\n",
       "48.0       0.000144\n",
       "53.0       0.000144\n",
       "46.0       0.000144\n",
       "50.0       0.000144\n",
       "51.0       0.000144\n",
       "52.0       0.000144\n",
       "45.0       0.000144\n",
       "54.0       0.000144"
      ]
     },
     "execution_count": 38,
     "metadata": {},
     "output_type": "execute_result"
    }
   ],
   "source": [
    "df_unsub['days_to_unsub'].value_counts(normalize = True).to_frame()"
   ]
  },
  {
   "cell_type": "code",
   "execution_count": 39,
   "id": "43c71edf",
   "metadata": {
    "ExecuteTime": {
     "end_time": "2022-08-28T20:05:25.927782Z",
     "start_time": "2022-08-28T20:05:25.561378Z"
    }
   },
   "outputs": [
    {
     "data": {
      "image/png": "[encoded data removed]",
      "text/plain": [
       "<Figure size 600x300 with 1 Axes>"
      ]
     },
     "metadata": {},
     "output_type": "display_data"
    }
   ],
   "source": [
    "sns.set_theme()\n",
    "plt.figure(figsize = (6, 3))\n",
    "\n",
    "sns.histplot(data = df_unsub, x ='days_to_unsub', bins = 10, color = 'cadetblue')\n",
    "sns.despine(bottom = True, left = True)\n",
    "\n",
    "set_chart_config('Days from subscription to unsubscription',\n",
    "                'days',\n",
    "                '')"
   ]
  },
  {
   "cell_type": "code",
   "execution_count": 40,
   "id": "20c6288a",
   "metadata": {
    "ExecuteTime": {
     "end_time": "2022-08-28T20:05:25.941244Z",
     "start_time": "2022-08-28T20:05:25.932359Z"
    }
   },
   "outputs": [
    {
     "name": "stdout",
     "output_type": "stream",
     "text": [
      "Mean    5.608451110470147,\n",
      "Median: 0.0\n",
      "Mode: 0    0.0\n",
      "Name: days_to_unsub, dtype: float64\n"
     ]
    }
   ],
   "source": [
    "mean_t = df_unsub['days_to_unsub'].mean()\n",
    "median_t = df_unsub['days_to_unsub'].median()\n",
    "mode_t = df_unsub['days_to_unsub'].mode()\n",
    "\n",
    "print(f'Mean    {mean_t},\\nMedian: {median_t}\\nMode: {mode_t}')"
   ]
  },
  {
   "cell_type": "markdown",
   "id": "2de1d877",
   "metadata": {},
   "source": [
    "***\n",
    "\n",
    "1. 64% of the users unsubscribe on the same day. \n",
    "2. 13% of the users unsubscribe after 14 days\n",
    "3. The following days represent a small percentage of the data ( < 3%)\n",
    "4. The median (0) also represents the high percentage of users unsubscribing right after subscribing.\n",
    "\n",
    "***"
   ]
  },
  {
   "cell_type": "markdown",
   "id": "f276b5a5",
   "metadata": {},
   "source": [
    "### STATUS"
   ]
  },
  {
   "cell_type": "markdown",
   "id": "75c493f3",
   "metadata": {},
   "source": [
    "#### PROPORTION OF DELIVERED x FAILED"
   ]
  },
  {
   "cell_type": "code",
   "execution_count": 41,
   "id": "d9841fcd",
   "metadata": {
    "ExecuteTime": {
     "end_time": "2022-08-28T20:05:25.963699Z",
     "start_time": "2022-08-28T20:05:25.944953Z"
    }
   },
   "outputs": [],
   "source": [
    "# removing pending (we don't know which status is going to be)\n",
    "df_status = df[df['status'] != 'Pending']"
   ]
  },
  {
   "cell_type": "code",
   "execution_count": 42,
   "id": "7080f8b0",
   "metadata": {
    "ExecuteTime": {
     "end_time": "2022-08-28T20:05:25.982547Z",
     "start_time": "2022-08-28T20:05:25.967304Z"
    }
   },
   "outputs": [
    {
     "data": {
      "text/plain": [
       "Failed       0.720064\n",
       "Delivered    0.279936\n",
       "Name: status, dtype: float64"
      ]
     },
     "execution_count": 42,
     "metadata": {},
     "output_type": "execute_result"
    }
   ],
   "source": [
    "df_status['status'].value_counts(normalize = True)"
   ]
  },
  {
   "cell_type": "code",
   "execution_count": 43,
   "id": "0fe445ee",
   "metadata": {
    "ExecuteTime": {
     "end_time": "2022-08-28T20:05:26.131631Z",
     "start_time": "2022-08-28T20:05:25.990261Z"
    }
   },
   "outputs": [],
   "source": [
    "delivered = df_status[df_status['status'] == 'Delivered'].groupby('user_id').count()[['status']].rename(columns=({'status' : 'delivered'}))\n",
    "failed = df_status[df_status['status'] == 'Failed'].groupby('user_id').count()[['status']].rename(columns=({'status' : 'failed'}))"
   ]
  },
  {
   "cell_type": "code",
   "execution_count": 44,
   "id": "62f70e61",
   "metadata": {
    "ExecuteTime": {
     "end_time": "2022-08-28T20:05:26.161189Z",
     "start_time": "2022-08-28T20:05:26.135333Z"
    }
   },
   "outputs": [
    {
     "data": {
      "text/html": [
       "<div>\n",
       "<style scoped>\n",
       "    .dataframe tbody tr th:only-of-type {\n",
       "        vertical-align: middle;\n",
       "    }\n",
       "\n",
       "    .dataframe tbody tr th {\n",
       "        vertical-align: top;\n",
       "    }\n",
       "\n",
       "    .dataframe thead th {\n",
       "        text-align: right;\n",
       "    }\n",
       "</style>\n",
       "<table border=\"1\" class=\"dataframe\">\n",
       "  <thead>\n",
       "    <tr style=\"text-align: right;\">\n",
       "      <th></th>\n",
       "      <th>delivered</th>\n",
       "      <th>failed</th>\n",
       "      <th>proportion</th>\n",
       "    </tr>\n",
       "    <tr>\n",
       "      <th>user_id</th>\n",
       "      <th></th>\n",
       "      <th></th>\n",
       "      <th></th>\n",
       "    </tr>\n",
       "  </thead>\n",
       "  <tbody>\n",
       "    <tr>\n",
       "      <th>00174340ea5f11ecab61e5053e64927e</th>\n",
       "      <td>2</td>\n",
       "      <td>5</td>\n",
       "      <td>2.5</td>\n",
       "    </tr>\n",
       "    <tr>\n",
       "      <th>002f0e30f6da11ec98339db181f14dac</th>\n",
       "      <td>3</td>\n",
       "      <td>1</td>\n",
       "      <td>0.3</td>\n",
       "    </tr>\n",
       "    <tr>\n",
       "      <th>00307ca0f7bd11ec867b553062cb5bf9</th>\n",
       "      <td>3</td>\n",
       "      <td>2</td>\n",
       "      <td>0.7</td>\n",
       "    </tr>\n",
       "    <tr>\n",
       "      <th>006f74e0e44a11ecaa7033b4a0ee0e67</th>\n",
       "      <td>5</td>\n",
       "      <td>3</td>\n",
       "      <td>0.6</td>\n",
       "    </tr>\n",
       "    <tr>\n",
       "      <th>0095eba0f7b111ecac15635d0d5eef51</th>\n",
       "      <td>1</td>\n",
       "      <td>4</td>\n",
       "      <td>4.0</td>\n",
       "    </tr>\n",
       "  </tbody>\n",
       "</table>\n",
       "</div>"
      ],
      "text/plain": [
       "                                  delivered  failed  proportion\n",
       "user_id                                                        \n",
       "00174340ea5f11ecab61e5053e64927e          2       5         2.5\n",
       "002f0e30f6da11ec98339db181f14dac          3       1         0.3\n",
       "00307ca0f7bd11ec867b553062cb5bf9          3       2         0.7\n",
       "006f74e0e44a11ecaa7033b4a0ee0e67          5       3         0.6\n",
       "0095eba0f7b111ecac15635d0d5eef51          1       4         4.0"
      ]
     },
     "execution_count": 44,
     "metadata": {},
     "output_type": "execute_result"
    }
   ],
   "source": [
    "df_status_user = delivered.merge(failed, on = 'user_id')\n",
    "\n",
    "df_status_user['proportion'] = round(df_status_user['failed'] / df_status_user['delivered'], 1)\n",
    "df_status_user.head()"
   ]
  },
  {
   "cell_type": "code",
   "execution_count": 45,
   "id": "8ef8804d",
   "metadata": {
    "ExecuteTime": {
     "end_time": "2022-08-28T20:05:26.174779Z",
     "start_time": "2022-08-28T20:05:26.165622Z"
    }
   },
   "outputs": [
    {
     "name": "stdout",
     "output_type": "stream",
     "text": [
      "2.1343420126671355\n",
      "1.0\n",
      "0    0.2\n",
      "Name: proportion, dtype: float64\n"
     ]
    }
   ],
   "source": [
    "print(df_status_user['proportion'].mean())\n",
    "print(df_status_user['proportion'].median())\n",
    "print(df_status_user['proportion'].mode())"
   ]
  },
  {
   "cell_type": "code",
   "execution_count": 46,
   "id": "0b981085",
   "metadata": {
    "ExecuteTime": {
     "end_time": "2022-08-28T20:05:26.612570Z",
     "start_time": "2022-08-28T20:05:26.178871Z"
    },
    "scrolled": true
   },
   "outputs": [
    {
     "data": {
      "image/png": "[encoded data removed]",
      "text/plain": [
       "<Figure size 600x300 with 1 Axes>"
      ]
     },
     "metadata": {},
     "output_type": "display_data"
    }
   ],
   "source": [
    "sns.set_theme()\n",
    "plt.figure(figsize = (6, 3))\n",
    "\n",
    "sns.histplot(data = df_status_user, x ='proportion', bins = 20, color = 'cadetblue')\n",
    "sns.despine(bottom = True, left = True)\n",
    "\n",
    "set_chart_config('Proportion of Failed x Delivered status by user',\n",
    "                'Proportion',\n",
    "                '')"
   ]
  },
  {
   "cell_type": "markdown",
   "id": "18152751",
   "metadata": {},
   "source": [
    "***\n",
    "\n",
    "The proportion of failed x delivered status is good:\n",
    "    \n",
    "    - Mean: 2.13\n",
    "    - Median: 1\n",
    "\n",
    "The histogram chart shows that most of the data is concentrated between 0 and 1, which means that the company needs less than one attempt to successfully charge the user. The following table exemplifies this metric.\n",
    "\n",
    "- First user: For 1 failed attempt, there're 3 successful\n",
    "\n",
    "- Second user: for 2 failed attempts, there are 3 succesfully\n",
    "\n",
    "- Third user: for 3 failed attempts, there're 5 successfully\n",
    "\n",
    "| user_id | delivered| \tfailed\t| proportion |\n",
    "|-----    | -----    | -------  | ---------- |\t\t\t\n",
    "|002f0e30f6da11ec98339db181f14dac|\t3|\t1|\t0.3|\n",
    "|00307ca0f7bd11ec867b553062cb5bf9|\t3|\t2|\t0.7|\n",
    "|006f74e0e44a11ecaa7033b4a0ee0e67|\t5|\t3|\t0.6|\n",
    "\n",
    "***"
   ]
  },
  {
   "cell_type": "markdown",
   "id": "a4b7fe06",
   "metadata": {},
   "source": [
    "#### BY STATUS, AFFILIATE AND SERVICE"
   ]
  },
  {
   "cell_type": "code",
   "execution_count": 47,
   "id": "3cb79e7c",
   "metadata": {
    "ExecuteTime": {
     "end_time": "2022-08-28T20:05:27.614533Z",
     "start_time": "2022-08-28T20:05:26.618274Z"
    },
    "scrolled": true
   },
   "outputs": [
    {
     "data": {
      "image/png": "[encoded data removed]",
      "text/plain": [
       "<Figure size 1500x400 with 3 Axes>"
      ]
     },
     "metadata": {},
     "output_type": "display_data"
    }
   ],
   "source": [
    "sns.set_theme()\n",
    "plt.figure(figsize = (15, 4))\n",
    "\n",
    "plt.subplot(1, 3, 1)\n",
    "sns.countplot(data = df_status, hue = 'status', x= 'status', palette = 'crest')\n",
    "set_chart_config('status', '', '')\n",
    "\n",
    "plt.subplot(1, 3, 2)\n",
    "sns.countplot(data = df_status, hue = 'affiliate', x= 'affiliate', palette = 'crest')\n",
    "set_chart_config('affiliate', '', '')\n",
    "\n",
    "plt.subplot(1, 3, 3)\n",
    "order = df_status['service'].value_counts().to_frame().index\n",
    "sns.countplot(data = df_status, hue = 'service', x= 'service', order = order, palette = 'crest')\n",
    "set_chart_config('service', '', '')"
   ]
  },
  {
   "cell_type": "markdown",
   "id": "94ce39ff",
   "metadata": {},
   "source": [
    "***\n",
    "\n",
    "1. 72% of the transactions are \"Failed\".\n",
    "2. Affiliate aff_4 concentrates the majority of the data whereas affiliate aff_3 has quite a few\n",
    "3. PS service is the most common one. The less common service is the GC\n",
    "\n",
    "***"
   ]
  },
  {
   "cell_type": "markdown",
   "id": "88123195",
   "metadata": {},
   "source": [
    "# DELIVERED TRANSACTIONS"
   ]
  },
  {
   "cell_type": "markdown",
   "id": "1f5ecdc2",
   "metadata": {},
   "source": [
    "***\n",
    "\n",
    "In this section, we're going to analyze all delivered transactions. By doing so, will be possible to set a pattern for users who have had successful transactions.\n",
    "\n",
    "As we've said before, the main goal is to define what variables impact most in successful and not successful billings attempts.\n",
    "\n",
    "***"
   ]
  },
  {
   "cell_type": "code",
   "execution_count": 48,
   "id": "4e64c418",
   "metadata": {
    "ExecuteTime": {
     "end_time": "2022-08-28T20:05:27.640196Z",
     "start_time": "2022-08-28T20:05:27.619540Z"
    }
   },
   "outputs": [],
   "source": [
    "# creating dataframe\n",
    "delivered = df.copy(deep = True)\n",
    "delivered = delivered[delivered['status'] == 'Delivered']"
   ]
  },
  {
   "cell_type": "markdown",
   "id": "df70e0c0",
   "metadata": {},
   "source": [
    "## RFM TABLE"
   ]
  },
  {
   "cell_type": "markdown",
   "id": "8cf2fee0",
   "metadata": {},
   "source": [
    "We're going to create a RFM table.\n",
    "\n",
    "RMF stands for Recency, Frequency and Monetary value. These metrics have proven to be really effectivate predictor's to measure engagement and retention of customers.\n",
    "\n",
    "**Recency**: How recently did the customer purchase from your company\n",
    "\n",
    "**Frequency**: How often do your customers purchase in your store or visite your website\n",
    "\n",
    "**Monetay**: How much do your customers spend in each visit ou purchase."
   ]
  },
  {
   "cell_type": "code",
   "execution_count": 49,
   "id": "138a2f51",
   "metadata": {
    "ExecuteTime": {
     "end_time": "2022-08-28T20:05:30.214647Z",
     "start_time": "2022-08-28T20:05:27.644274Z"
    },
    "scrolled": false
   },
   "outputs": [
    {
     "data": {
      "text/html": [
       "<div>\n",
       "<style scoped>\n",
       "    .dataframe tbody tr th:only-of-type {\n",
       "        vertical-align: middle;\n",
       "    }\n",
       "\n",
       "    .dataframe tbody tr th {\n",
       "        vertical-align: top;\n",
       "    }\n",
       "\n",
       "    .dataframe thead th {\n",
       "        text-align: right;\n",
       "    }\n",
       "</style>\n",
       "<table border=\"1\" class=\"dataframe\">\n",
       "  <thead>\n",
       "    <tr style=\"text-align: right;\">\n",
       "      <th></th>\n",
       "      <th>recency</th>\n",
       "      <th>frequency</th>\n",
       "      <th>pricepoint_sum</th>\n",
       "    </tr>\n",
       "    <tr>\n",
       "      <th>user_id</th>\n",
       "      <th></th>\n",
       "      <th></th>\n",
       "      <th></th>\n",
       "    </tr>\n",
       "  </thead>\n",
       "  <tbody>\n",
       "    <tr>\n",
       "      <th>00067a80f50c11ec98339db181f14dac</th>\n",
       "      <td>34</td>\n",
       "      <td>5</td>\n",
       "      <td>18.0</td>\n",
       "    </tr>\n",
       "    <tr>\n",
       "      <th>00174340ea5f11ecab61e5053e64927e</th>\n",
       "      <td>69</td>\n",
       "      <td>2</td>\n",
       "      <td>7.2</td>\n",
       "    </tr>\n",
       "    <tr>\n",
       "      <th>002f0e30f6da11ec98339db181f14dac</th>\n",
       "      <td>39</td>\n",
       "      <td>3</td>\n",
       "      <td>10.8</td>\n",
       "    </tr>\n",
       "    <tr>\n",
       "      <th>00307ca0f7bd11ec867b553062cb5bf9</th>\n",
       "      <td>31</td>\n",
       "      <td>3</td>\n",
       "      <td>10.8</td>\n",
       "    </tr>\n",
       "    <tr>\n",
       "      <th>003a6770e74511ecbc89495b27b9c9c5</th>\n",
       "      <td>31</td>\n",
       "      <td>8</td>\n",
       "      <td>28.8</td>\n",
       "    </tr>\n",
       "  </tbody>\n",
       "</table>\n",
       "</div>"
      ],
      "text/plain": [
       "                                  recency  frequency  pricepoint_sum\n",
       "user_id                                                             \n",
       "00067a80f50c11ec98339db181f14dac       34          5            18.0\n",
       "00174340ea5f11ecab61e5053e64927e       69          2             7.2\n",
       "002f0e30f6da11ec98339db181f14dac       39          3            10.8\n",
       "00307ca0f7bd11ec867b553062cb5bf9       31          3            10.8\n",
       "003a6770e74511ecbc89495b27b9c9c5       31          8            28.8"
      ]
     },
     "execution_count": 49,
     "metadata": {},
     "output_type": "execute_result"
    }
   ],
   "source": [
    "rfm = create_rfm_table(delivered)\n",
    "rfm.head()"
   ]
  },
  {
   "cell_type": "code",
   "execution_count": 50,
   "id": "5967dd81",
   "metadata": {
    "ExecuteTime": {
     "end_time": "2022-08-28T20:05:30.230182Z",
     "start_time": "2022-08-28T20:05:30.218075Z"
    }
   },
   "outputs": [
    {
     "data": {
      "text/plain": [
       "count    7567.000000\n",
       "mean       61.935642\n",
       "std        16.123604\n",
       "min        31.000000\n",
       "25%        50.000000\n",
       "50%        65.000000\n",
       "75%        75.000000\n",
       "max        87.000000\n",
       "Name: recency, dtype: float64"
      ]
     },
     "execution_count": 50,
     "metadata": {},
     "output_type": "execute_result"
    }
   ],
   "source": [
    "rfm['recency'].describe()"
   ]
  },
  {
   "cell_type": "code",
   "execution_count": 51,
   "id": "660713f4",
   "metadata": {
    "ExecuteTime": {
     "end_time": "2022-08-28T20:05:30.246074Z",
     "start_time": "2022-08-28T20:05:30.233842Z"
    },
    "scrolled": true
   },
   "outputs": [
    {
     "data": {
      "text/plain": [
       "count    7567.000000\n",
       "mean        2.326021\n",
       "std         1.876743\n",
       "min         1.000000\n",
       "25%         1.000000\n",
       "50%         1.000000\n",
       "75%         3.000000\n",
       "max        13.000000\n",
       "Name: frequency, dtype: float64"
      ]
     },
     "execution_count": 51,
     "metadata": {},
     "output_type": "execute_result"
    }
   ],
   "source": [
    "rfm['frequency'].describe()"
   ]
  },
  {
   "cell_type": "code",
   "execution_count": 52,
   "id": "906fdce7",
   "metadata": {
    "ExecuteTime": {
     "end_time": "2022-08-28T20:05:30.269844Z",
     "start_time": "2022-08-28T20:05:30.250152Z"
    },
    "scrolled": true
   },
   "outputs": [
    {
     "data": {
      "text/plain": [
       "count    7567.000000\n",
       "mean        8.373675\n",
       "std         6.756276\n",
       "min         3.600000\n",
       "25%         3.600000\n",
       "50%         3.600000\n",
       "75%        10.800000\n",
       "max        46.800000\n",
       "Name: pricepoint_sum, dtype: float64"
      ]
     },
     "execution_count": 52,
     "metadata": {},
     "output_type": "execute_result"
    }
   ],
   "source": [
    "rfm['pricepoint_sum'].describe()"
   ]
  },
  {
   "cell_type": "code",
   "execution_count": 53,
   "id": "2d8c08f5",
   "metadata": {
    "ExecuteTime": {
     "end_time": "2022-08-28T20:05:33.906972Z",
     "start_time": "2022-08-28T20:05:30.273665Z"
    },
    "scrolled": false
   },
   "outputs": [
    {
     "data": {
      "image/png": "[encoded data removed]",
      "text/plain": [
       "<Figure size 1500x500 with 3 Axes>"
      ]
     },
     "metadata": {},
     "output_type": "display_data"
    }
   ],
   "source": [
    "create_viz_rfm(delivered)"
   ]
  },
  {
   "cell_type": "markdown",
   "id": "1f1c74af",
   "metadata": {},
   "source": [
    "***\n",
    "\n",
    "1. **Recency**\n",
    "The recency data seems to be a bimodal distribution. There're two clear peaks - around 30 days and roughly greater than 60. The second one concentrates on the majority of the users, which means most of them have been charged 2 months ago.\n",
    "\n",
    "\n",
    "2. **Frequency**\n",
    "The frequency metric shows how many unique user has been charged. We can see that most of them are billed at one unique time. The second major group is the users with 3 successful billings attempts.\n",
    "\n",
    "\n",
    "3. **Price Point**\n",
    "The price point sums up the amount billed for each user. Since the majority have a frequency equal to 1, consequently, the biggest price bar will be the first one.\n",
    "***\n"
   ]
  },
  {
   "cell_type": "markdown",
   "id": "7c955d70",
   "metadata": {},
   "source": [
    "### CATEGORICAL ANALYSIS"
   ]
  },
  {
   "cell_type": "markdown",
   "id": "4efecd1a",
   "metadata": {},
   "source": [
    "Knowing our target variable (which is the Price Point), in this section, we're going to investigate how it is correlated to the categorical variables we've found important in the previous sections"
   ]
  },
  {
   "cell_type": "code",
   "execution_count": 54,
   "id": "483febd9",
   "metadata": {
    "ExecuteTime": {
     "end_time": "2022-08-28T20:05:33.942206Z",
     "start_time": "2022-08-28T20:05:33.910641Z"
    }
   },
   "outputs": [],
   "source": [
    "create_days_of_week(delivered, 'transaction_timestamp')\n",
    "\n",
    "# merging the rfm table\n",
    "delivered = delivered.merge(rfm, how = 'inner', left_on = 'user_id', right_index = True)"
   ]
  },
  {
   "cell_type": "code",
   "execution_count": 55,
   "id": "336fc85c",
   "metadata": {
    "ExecuteTime": {
     "end_time": "2022-08-28T20:05:33.990919Z",
     "start_time": "2022-08-28T20:05:33.947259Z"
    }
   },
   "outputs": [],
   "source": [
    "#only categorical variables\n",
    "cat_attributes = delivered.select_dtypes(exclude=['int64', 'float64'])\n",
    "\n",
    "# adding pricepoint_sum - our target variable\n",
    "cat_attributes = cat_attributes.merge(delivered[['pricepoint_sum', 'user_id']], how = 'left', on = 'user_id')"
   ]
  },
  {
   "cell_type": "code",
   "execution_count": 56,
   "id": "5affa14f",
   "metadata": {
    "ExecuteTime": {
     "end_time": "2022-08-28T20:05:35.542470Z",
     "start_time": "2022-08-28T20:05:33.994946Z"
    }
   },
   "outputs": [
    {
     "data": {
      "image/png": "[encoded data removed]",
      "text/plain": [
       "<Figure size 1800x1500 with 5 Axes>"
      ]
     },
     "metadata": {},
     "output_type": "display_data"
    }
   ],
   "source": [
    "# target columns\n",
    "cols = ['phone_operator', 'os_name', 'service', 'day_of_week', 'affiliate']\n",
    "\n",
    "# data visualization\n",
    "plt.figure(figsize=(18, 15))\n",
    "x = 1\n",
    "\n",
    "for i in cat_attributes[cols]:\n",
    "    plt.subplot(3, 2, x)\n",
    "    sns.boxplot(data = cat_attributes, x = i, y = 'pricepoint_sum', palette = 'crest')\n",
    "    x += 1\n"
   ]
  },
  {
   "cell_type": "markdown",
   "id": "12021c0c",
   "metadata": {},
   "source": [
    "***\n",
    "\n",
    "1. **Phone operator**\n",
    "The phone operator B seems the most profitable one, followed by operators C and A. In the general data, operator B is the most common one, but its median is the lowest one as well.\n",
    "\n",
    "\n",
    "2. **OS name**\n",
    "Harmony is an outlier as we've seen at the beginning of the analysis, so, we're not going to consider it. The same for iPad and OSx. Between Android and IOS, Android users are more likely to have a successful charge. Its mean and median are greater than iOS\n",
    "\n",
    "\n",
    "3. **Service**\n",
    "Most of the services look pretty similar. The TV is an exception as well as the median of PS. GC product seems to be the best one regarding profit.\n",
    "\n",
    "\n",
    "4. **Day of Week**\n",
    "In the previous section, in all data, we've seen that Wednesday is the most common day for new subscriptions. It median also looks slightly higher than the other days. Sunday has the greatest superior limit. \n",
    "\n",
    "\n",
    "5. **Affiliate**\n",
    "There's a huge difference among the affiliates. aff_4 is by far the most profitable one. Something interesting is that aff_3 has way fewer subscriptions (in general data) and regarding profit, is also the last one.\n",
    "\n",
    "***\n",
    "\n"
   ]
  },
  {
   "cell_type": "markdown",
   "id": "4b20fae5",
   "metadata": {},
   "source": [
    "### OVERALL SCORE"
   ]
  },
  {
   "cell_type": "markdown",
   "id": "eb52ceb9",
   "metadata": {},
   "source": [
    "According to the previous analysis, where we investigated the more common variables, the ones with more discrepancies, etc., based on all we've done and the business knowledge, we're going to attribute a score for each value.\n",
    "\n",
    "This way will be possible to create an overall score, regardless of the variable type. Also, will be possible to standardize the whole dataset."
   ]
  },
  {
   "cell_type": "code",
   "execution_count": 57,
   "id": "72c2bf0b",
   "metadata": {
    "ExecuteTime": {
     "end_time": "2022-08-28T20:05:35.590475Z",
     "start_time": "2022-08-28T20:05:35.546587Z"
    }
   },
   "outputs": [],
   "source": [
    "# removing columns and duplicates\n",
    "delivered = delivered[['user_id', 'phone_operator', 'os_name', 'affiliate', \n",
    "        'service', 'day_of_week', 'recency', 'frequency', 'pricepoint_sum']]\n",
    "\n",
    "delivered = delivered.drop_duplicates()\n",
    "\n",
    "#removing NA\n",
    "delivered = delivered.dropna()\n",
    "\n",
    "delivered = delivered.set_index('user_id')"
   ]
  },
  {
   "cell_type": "code",
   "execution_count": 58,
   "id": "8a388151",
   "metadata": {
    "ExecuteTime": {
     "end_time": "2022-08-28T20:05:35.606278Z",
     "start_time": "2022-08-28T20:05:35.594985Z"
    }
   },
   "outputs": [],
   "source": [
    "dictionaries = {\n",
    "    'A' : 1,\n",
    "    'B' : 3,\n",
    "    'C' : 2,\n",
    "    \n",
    "    'Android'   : 2,\n",
    "    'iOS'       : 1,\n",
    "    'HarmonyOS' : 0,\n",
    "    'iPadOS'    : 0,\n",
    "    'OS X'      : 0,\n",
    "    \n",
    "    'gc' : 3,\n",
    "    'cl' : 2,\n",
    "    'ma' : 2,\n",
    "    'ps' : 2,\n",
    "    'tv' : 1,\n",
    "    \n",
    "    'monday'    : 2,\n",
    "    'tuesday'   : 2,\n",
    "    'wednesday' : 3,\n",
    "    'thursday'  : 1,\n",
    "    'friday'    : 2,\n",
    "    'saturday'  : 3,\n",
    "    'sunday'    : 2,\n",
    "\n",
    "    'aff_3' : 1,\n",
    "    'aff_2' : 2,\n",
    "    'aff_4' : 3\n",
    "}\n",
    "    "
   ]
  },
  {
   "cell_type": "code",
   "execution_count": 59,
   "id": "c68329f5",
   "metadata": {
    "ExecuteTime": {
     "end_time": "2022-08-28T20:05:35.631956Z",
     "start_time": "2022-08-28T20:05:35.611492Z"
    }
   },
   "outputs": [
    {
     "data": {
      "text/html": [
       "<div>\n",
       "<style scoped>\n",
       "    .dataframe tbody tr th:only-of-type {\n",
       "        vertical-align: middle;\n",
       "    }\n",
       "\n",
       "    .dataframe tbody tr th {\n",
       "        vertical-align: top;\n",
       "    }\n",
       "\n",
       "    .dataframe thead th {\n",
       "        text-align: right;\n",
       "    }\n",
       "</style>\n",
       "<table border=\"1\" class=\"dataframe\">\n",
       "  <thead>\n",
       "    <tr style=\"text-align: right;\">\n",
       "      <th></th>\n",
       "      <th>phone_operator</th>\n",
       "      <th>os_name</th>\n",
       "      <th>affiliate</th>\n",
       "      <th>service</th>\n",
       "      <th>day_of_week</th>\n",
       "      <th>recency</th>\n",
       "      <th>frequency</th>\n",
       "      <th>pricepoint_sum</th>\n",
       "    </tr>\n",
       "    <tr>\n",
       "      <th>user_id</th>\n",
       "      <th></th>\n",
       "      <th></th>\n",
       "      <th></th>\n",
       "      <th></th>\n",
       "      <th></th>\n",
       "      <th></th>\n",
       "      <th></th>\n",
       "      <th></th>\n",
       "    </tr>\n",
       "  </thead>\n",
       "  <tbody>\n",
       "    <tr>\n",
       "      <th>4058b340e19e11ec95703f2faa3b39a3</th>\n",
       "      <td>B</td>\n",
       "      <td>Android</td>\n",
       "      <td>aff_4</td>\n",
       "      <td>gc</td>\n",
       "      <td>wednesday</td>\n",
       "      <td>73</td>\n",
       "      <td>1</td>\n",
       "      <td>3.6</td>\n",
       "    </tr>\n",
       "    <tr>\n",
       "      <th>91299d70e1d511ec8a541fcc86ad2588</th>\n",
       "      <td>B</td>\n",
       "      <td>iOS</td>\n",
       "      <td>aff_4</td>\n",
       "      <td>ps</td>\n",
       "      <td>wednesday</td>\n",
       "      <td>73</td>\n",
       "      <td>3</td>\n",
       "      <td>10.8</td>\n",
       "    </tr>\n",
       "    <tr>\n",
       "      <th>2414d890e25b11ecae2c8b58f62b8645</th>\n",
       "      <td>B</td>\n",
       "      <td>Android</td>\n",
       "      <td>aff_4</td>\n",
       "      <td>ps</td>\n",
       "      <td>thursday</td>\n",
       "      <td>65</td>\n",
       "      <td>4</td>\n",
       "      <td>14.4</td>\n",
       "    </tr>\n",
       "    <tr>\n",
       "      <th>4ba3b470e27a11eca8957b6cb3999042</th>\n",
       "      <td>B</td>\n",
       "      <td>Android</td>\n",
       "      <td>aff_4</td>\n",
       "      <td>ma</td>\n",
       "      <td>thursday</td>\n",
       "      <td>86</td>\n",
       "      <td>1</td>\n",
       "      <td>3.6</td>\n",
       "    </tr>\n",
       "    <tr>\n",
       "      <th>c08bcf60e31111eca8957b6cb3999042</th>\n",
       "      <td>B</td>\n",
       "      <td>Android</td>\n",
       "      <td>aff_4</td>\n",
       "      <td>cl</td>\n",
       "      <td>friday</td>\n",
       "      <td>85</td>\n",
       "      <td>1</td>\n",
       "      <td>3.6</td>\n",
       "    </tr>\n",
       "  </tbody>\n",
       "</table>\n",
       "</div>"
      ],
      "text/plain": [
       "                                 phone_operator  os_name affiliate service  \\\n",
       "user_id                                                                      \n",
       "4058b340e19e11ec95703f2faa3b39a3              B  Android     aff_4      gc   \n",
       "91299d70e1d511ec8a541fcc86ad2588              B      iOS     aff_4      ps   \n",
       "2414d890e25b11ecae2c8b58f62b8645              B  Android     aff_4      ps   \n",
       "4ba3b470e27a11eca8957b6cb3999042              B  Android     aff_4      ma   \n",
       "c08bcf60e31111eca8957b6cb3999042              B  Android     aff_4      cl   \n",
       "\n",
       "                                 day_of_week  recency  frequency  \\\n",
       "user_id                                                            \n",
       "4058b340e19e11ec95703f2faa3b39a3   wednesday       73          1   \n",
       "91299d70e1d511ec8a541fcc86ad2588   wednesday       73          3   \n",
       "2414d890e25b11ecae2c8b58f62b8645    thursday       65          4   \n",
       "4ba3b470e27a11eca8957b6cb3999042    thursday       86          1   \n",
       "c08bcf60e31111eca8957b6cb3999042      friday       85          1   \n",
       "\n",
       "                                  pricepoint_sum  \n",
       "user_id                                           \n",
       "4058b340e19e11ec95703f2faa3b39a3             3.6  \n",
       "91299d70e1d511ec8a541fcc86ad2588            10.8  \n",
       "2414d890e25b11ecae2c8b58f62b8645            14.4  \n",
       "4ba3b470e27a11eca8957b6cb3999042             3.6  \n",
       "c08bcf60e31111eca8957b6cb3999042             3.6  "
      ]
     },
     "execution_count": 59,
     "metadata": {},
     "output_type": "execute_result"
    }
   ],
   "source": [
    "delivered.head()"
   ]
  },
  {
   "cell_type": "code",
   "execution_count": 60,
   "id": "e2815c64",
   "metadata": {
    "ExecuteTime": {
     "end_time": "2022-08-28T20:05:35.658353Z",
     "start_time": "2022-08-28T20:05:35.636706Z"
    }
   },
   "outputs": [],
   "source": [
    "cols = ['phone_operator', 'service', 'day_of_week', 'affiliate', 'os_name']\n",
    "for i in delivered[cols]:\n",
    "    delivered[i] = delivered[i].map(dictionaries)"
   ]
  },
  {
   "cell_type": "code",
   "execution_count": 61,
   "id": "1c096a26",
   "metadata": {
    "ExecuteTime": {
     "end_time": "2022-08-28T20:05:35.691136Z",
     "start_time": "2022-08-28T20:05:35.661360Z"
    },
    "scrolled": true
   },
   "outputs": [
    {
     "data": {
      "text/html": [
       "<div>\n",
       "<style scoped>\n",
       "    .dataframe tbody tr th:only-of-type {\n",
       "        vertical-align: middle;\n",
       "    }\n",
       "\n",
       "    .dataframe tbody tr th {\n",
       "        vertical-align: top;\n",
       "    }\n",
       "\n",
       "    .dataframe thead th {\n",
       "        text-align: right;\n",
       "    }\n",
       "</style>\n",
       "<table border=\"1\" class=\"dataframe\">\n",
       "  <thead>\n",
       "    <tr style=\"text-align: right;\">\n",
       "      <th></th>\n",
       "      <th>phone_operator</th>\n",
       "      <th>os_name</th>\n",
       "      <th>affiliate</th>\n",
       "      <th>service</th>\n",
       "      <th>day_of_week</th>\n",
       "      <th>recency</th>\n",
       "      <th>frequency</th>\n",
       "      <th>pricepoint_sum</th>\n",
       "      <th>total_score</th>\n",
       "    </tr>\n",
       "    <tr>\n",
       "      <th>user_id</th>\n",
       "      <th></th>\n",
       "      <th></th>\n",
       "      <th></th>\n",
       "      <th></th>\n",
       "      <th></th>\n",
       "      <th></th>\n",
       "      <th></th>\n",
       "      <th></th>\n",
       "      <th></th>\n",
       "    </tr>\n",
       "  </thead>\n",
       "  <tbody>\n",
       "    <tr>\n",
       "      <th>4058b340e19e11ec95703f2faa3b39a3</th>\n",
       "      <td>3</td>\n",
       "      <td>2</td>\n",
       "      <td>3</td>\n",
       "      <td>3</td>\n",
       "      <td>3</td>\n",
       "      <td>1</td>\n",
       "      <td>1</td>\n",
       "      <td>3.6</td>\n",
       "      <td>19.6</td>\n",
       "    </tr>\n",
       "    <tr>\n",
       "      <th>91299d70e1d511ec8a541fcc86ad2588</th>\n",
       "      <td>3</td>\n",
       "      <td>1</td>\n",
       "      <td>3</td>\n",
       "      <td>2</td>\n",
       "      <td>3</td>\n",
       "      <td>1</td>\n",
       "      <td>3</td>\n",
       "      <td>10.8</td>\n",
       "      <td>26.8</td>\n",
       "    </tr>\n",
       "    <tr>\n",
       "      <th>2414d890e25b11ecae2c8b58f62b8645</th>\n",
       "      <td>3</td>\n",
       "      <td>2</td>\n",
       "      <td>3</td>\n",
       "      <td>2</td>\n",
       "      <td>1</td>\n",
       "      <td>1</td>\n",
       "      <td>4</td>\n",
       "      <td>14.4</td>\n",
       "      <td>30.4</td>\n",
       "    </tr>\n",
       "    <tr>\n",
       "      <th>4ba3b470e27a11eca8957b6cb3999042</th>\n",
       "      <td>3</td>\n",
       "      <td>2</td>\n",
       "      <td>3</td>\n",
       "      <td>2</td>\n",
       "      <td>1</td>\n",
       "      <td>1</td>\n",
       "      <td>1</td>\n",
       "      <td>3.6</td>\n",
       "      <td>16.6</td>\n",
       "    </tr>\n",
       "    <tr>\n",
       "      <th>c08bcf60e31111eca8957b6cb3999042</th>\n",
       "      <td>3</td>\n",
       "      <td>2</td>\n",
       "      <td>3</td>\n",
       "      <td>2</td>\n",
       "      <td>2</td>\n",
       "      <td>1</td>\n",
       "      <td>1</td>\n",
       "      <td>3.6</td>\n",
       "      <td>17.6</td>\n",
       "    </tr>\n",
       "  </tbody>\n",
       "</table>\n",
       "</div>"
      ],
      "text/plain": [
       "                                  phone_operator  os_name  affiliate  service  \\\n",
       "user_id                                                                         \n",
       "4058b340e19e11ec95703f2faa3b39a3               3        2          3        3   \n",
       "91299d70e1d511ec8a541fcc86ad2588               3        1          3        2   \n",
       "2414d890e25b11ecae2c8b58f62b8645               3        2          3        2   \n",
       "4ba3b470e27a11eca8957b6cb3999042               3        2          3        2   \n",
       "c08bcf60e31111eca8957b6cb3999042               3        2          3        2   \n",
       "\n",
       "                                  day_of_week  recency  frequency  \\\n",
       "user_id                                                             \n",
       "4058b340e19e11ec95703f2faa3b39a3            3        1          1   \n",
       "91299d70e1d511ec8a541fcc86ad2588            3        1          3   \n",
       "2414d890e25b11ecae2c8b58f62b8645            1        1          4   \n",
       "4ba3b470e27a11eca8957b6cb3999042            1        1          1   \n",
       "c08bcf60e31111eca8957b6cb3999042            2        1          1   \n",
       "\n",
       "                                  pricepoint_sum  total_score  \n",
       "user_id                                                        \n",
       "4058b340e19e11ec95703f2faa3b39a3             3.6         19.6  \n",
       "91299d70e1d511ec8a541fcc86ad2588            10.8         26.8  \n",
       "2414d890e25b11ecae2c8b58f62b8645            14.4         30.4  \n",
       "4ba3b470e27a11eca8957b6cb3999042             3.6         16.6  \n",
       "c08bcf60e31111eca8957b6cb3999042             3.6         17.6  "
      ]
     },
     "execution_count": 61,
     "metadata": {},
     "output_type": "execute_result"
    }
   ],
   "source": [
    "#creating a score for recency\n",
    "change_recency_score(delivered)\n",
    "\n",
    "# sum all columns - total score\n",
    "delivered['total_score'] = delivered.sum(axis=1)\n",
    "delivered['total_score'] = abs(delivered['total_score'])\n",
    "delivered.head()"
   ]
  },
  {
   "cell_type": "markdown",
   "id": "bcdec4ae",
   "metadata": {},
   "source": [
    "# FAILED TRANSACTIONS"
   ]
  },
  {
   "cell_type": "markdown",
   "id": "8f41f49a",
   "metadata": {},
   "source": [
    "We've investigated all delivered transactions, so in this section, we'll analyze the failed transactions.\n",
    "\n",
    "Based on the variables we do know that impact the main target and having transformed them from nominal to ordinal, we have a standard score, regardless of the type of the variable."
   ]
  },
  {
   "cell_type": "markdown",
   "id": "085230e6",
   "metadata": {},
   "source": [
    "## RFM TABLE"
   ]
  },
  {
   "cell_type": "code",
   "execution_count": 62,
   "id": "cb933cf7",
   "metadata": {
    "ExecuteTime": {
     "end_time": "2022-08-28T20:05:35.721603Z",
     "start_time": "2022-08-28T20:05:35.695998Z"
    }
   },
   "outputs": [],
   "source": [
    "failed = df.copy(deep = True)\n",
    "failed = failed[failed['status'] == 'Failed']"
   ]
  },
  {
   "cell_type": "code",
   "execution_count": 63,
   "id": "7e8b991c",
   "metadata": {
    "ExecuteTime": {
     "end_time": "2022-08-28T20:05:38.772459Z",
     "start_time": "2022-08-28T20:05:35.725363Z"
    },
    "scrolled": true
   },
   "outputs": [],
   "source": [
    "rfm = create_rfm_table(failed)"
   ]
  },
  {
   "cell_type": "code",
   "execution_count": 64,
   "id": "dd4192e5",
   "metadata": {
    "ExecuteTime": {
     "end_time": "2022-08-28T20:05:42.839842Z",
     "start_time": "2022-08-28T20:05:38.775362Z"
    }
   },
   "outputs": [
    {
     "data": {
      "image/png": "[encoded data removed]",
      "text/plain": [
       "<Figure size 1500x500 with 3 Axes>"
      ]
     },
     "metadata": {},
     "output_type": "display_data"
    }
   ],
   "source": [
    "create_viz_rfm(failed)"
   ]
  },
  {
   "cell_type": "markdown",
   "id": "fa39b083",
   "metadata": {},
   "source": [
    "### OVERALL SCORE"
   ]
  },
  {
   "cell_type": "code",
   "execution_count": 65,
   "id": "259b6390",
   "metadata": {
    "ExecuteTime": {
     "end_time": "2022-08-28T20:05:42.909919Z",
     "start_time": "2022-08-28T20:05:42.844431Z"
    }
   },
   "outputs": [],
   "source": [
    "create_days_of_week(failed, 'transaction_timestamp')\n",
    "\n",
    "# merging the rfm table\n",
    "failed = failed.merge(rfm, how = 'inner', left_on = 'user_id', right_index = True)"
   ]
  },
  {
   "cell_type": "code",
   "execution_count": 66,
   "id": "4cdce656",
   "metadata": {
    "ExecuteTime": {
     "end_time": "2022-08-28T20:05:42.992074Z",
     "start_time": "2022-08-28T20:05:42.914519Z"
    }
   },
   "outputs": [],
   "source": [
    "failed = failed[['user_id', 'phone_operator', 'os_name', 'affiliate', 'service', \n",
    "                 'day_of_week', 'recency', 'frequency', 'pricepoint_sum']]\n",
    "\n",
    "failed = failed.drop_duplicates()\n",
    "\n",
    "failed = failed.dropna()\n",
    "\n",
    "failed = failed.set_index('user_id')"
   ]
  },
  {
   "cell_type": "code",
   "execution_count": 67,
   "id": "9ab91081",
   "metadata": {
    "ExecuteTime": {
     "end_time": "2022-08-28T20:05:43.017355Z",
     "start_time": "2022-08-28T20:05:42.995742Z"
    }
   },
   "outputs": [],
   "source": [
    "\n",
    "# failed['phone_operator'] = failed['phone_operator'].map(phone_operator)\n",
    "# failed['service'] = failed['service'].map(service)\n",
    "# failed['day_of_week'] = failed['day_of_week'].map(day_of_week)\n",
    "# failed['affiliate'] = failed['affiliate'].map(affiliate)\n",
    "# failed['os_name'] = failed['os_name'].map(os_name)\n",
    "\n",
    "cols = ['phone_operator', 'service', 'day_of_week', 'affiliate', 'os_name']\n",
    "for i in failed[cols]:\n",
    "    failed[i] = failed[i].map(dictionaries)"
   ]
  },
  {
   "cell_type": "code",
   "execution_count": 68,
   "id": "f0a91268",
   "metadata": {
    "ExecuteTime": {
     "end_time": "2022-08-28T20:05:43.050106Z",
     "start_time": "2022-08-28T20:05:43.020881Z"
    },
    "scrolled": true
   },
   "outputs": [
    {
     "data": {
      "text/html": [
       "<div>\n",
       "<style scoped>\n",
       "    .dataframe tbody tr th:only-of-type {\n",
       "        vertical-align: middle;\n",
       "    }\n",
       "\n",
       "    .dataframe tbody tr th {\n",
       "        vertical-align: top;\n",
       "    }\n",
       "\n",
       "    .dataframe thead th {\n",
       "        text-align: right;\n",
       "    }\n",
       "</style>\n",
       "<table border=\"1\" class=\"dataframe\">\n",
       "  <thead>\n",
       "    <tr style=\"text-align: right;\">\n",
       "      <th></th>\n",
       "      <th>phone_operator</th>\n",
       "      <th>os_name</th>\n",
       "      <th>affiliate</th>\n",
       "      <th>service</th>\n",
       "      <th>day_of_week</th>\n",
       "      <th>recency</th>\n",
       "      <th>frequency</th>\n",
       "      <th>pricepoint_sum</th>\n",
       "    </tr>\n",
       "    <tr>\n",
       "      <th>user_id</th>\n",
       "      <th></th>\n",
       "      <th></th>\n",
       "      <th></th>\n",
       "      <th></th>\n",
       "      <th></th>\n",
       "      <th></th>\n",
       "      <th></th>\n",
       "      <th></th>\n",
       "    </tr>\n",
       "  </thead>\n",
       "  <tbody>\n",
       "    <tr>\n",
       "      <th>4058b340e19e11ec95703f2faa3b39a3</th>\n",
       "      <td>3</td>\n",
       "      <td>2.0</td>\n",
       "      <td>3</td>\n",
       "      <td>3</td>\n",
       "      <td>3</td>\n",
       "      <td>2</td>\n",
       "      <td>8</td>\n",
       "      <td>28.8</td>\n",
       "    </tr>\n",
       "    <tr>\n",
       "      <th>a0b80170e1b011ec8a541fcc86ad2588</th>\n",
       "      <td>2</td>\n",
       "      <td>2.0</td>\n",
       "      <td>3</td>\n",
       "      <td>2</td>\n",
       "      <td>3</td>\n",
       "      <td>2</td>\n",
       "      <td>9</td>\n",
       "      <td>32.4</td>\n",
       "    </tr>\n",
       "    <tr>\n",
       "      <th>ee930990e1fa11ecb2988337303a8fef</th>\n",
       "      <td>2</td>\n",
       "      <td>2.0</td>\n",
       "      <td>3</td>\n",
       "      <td>2</td>\n",
       "      <td>3</td>\n",
       "      <td>2</td>\n",
       "      <td>7</td>\n",
       "      <td>25.2</td>\n",
       "    </tr>\n",
       "    <tr>\n",
       "      <th>ee930990e1fa11ecb2988337303a8fef</th>\n",
       "      <td>2</td>\n",
       "      <td>2.0</td>\n",
       "      <td>3</td>\n",
       "      <td>2</td>\n",
       "      <td>1</td>\n",
       "      <td>2</td>\n",
       "      <td>7</td>\n",
       "      <td>25.2</td>\n",
       "    </tr>\n",
       "    <tr>\n",
       "      <th>86fa07f0e26511ecb4346f30d03a03b3</th>\n",
       "      <td>2</td>\n",
       "      <td>2.0</td>\n",
       "      <td>3</td>\n",
       "      <td>2</td>\n",
       "      <td>1</td>\n",
       "      <td>2</td>\n",
       "      <td>7</td>\n",
       "      <td>25.2</td>\n",
       "    </tr>\n",
       "    <tr>\n",
       "      <th>...</th>\n",
       "      <td>...</td>\n",
       "      <td>...</td>\n",
       "      <td>...</td>\n",
       "      <td>...</td>\n",
       "      <td>...</td>\n",
       "      <td>...</td>\n",
       "      <td>...</td>\n",
       "      <td>...</td>\n",
       "    </tr>\n",
       "    <tr>\n",
       "      <th>bbdfbc80f79611eca4a103a479708082</th>\n",
       "      <td>1</td>\n",
       "      <td>2.0</td>\n",
       "      <td>3</td>\n",
       "      <td>2</td>\n",
       "      <td>3</td>\n",
       "      <td>2</td>\n",
       "      <td>1</td>\n",
       "      <td>3.6</td>\n",
       "    </tr>\n",
       "    <tr>\n",
       "      <th>74ecbe20f7bb11eca4a103a479708082</th>\n",
       "      <td>2</td>\n",
       "      <td>2.0</td>\n",
       "      <td>3</td>\n",
       "      <td>2</td>\n",
       "      <td>3</td>\n",
       "      <td>2</td>\n",
       "      <td>1</td>\n",
       "      <td>3.6</td>\n",
       "    </tr>\n",
       "    <tr>\n",
       "      <th>93225370f7be11ec867b553062cb5bf9</th>\n",
       "      <td>3</td>\n",
       "      <td>1.0</td>\n",
       "      <td>3</td>\n",
       "      <td>2</td>\n",
       "      <td>3</td>\n",
       "      <td>2</td>\n",
       "      <td>5</td>\n",
       "      <td>18.0</td>\n",
       "    </tr>\n",
       "    <tr>\n",
       "      <th>3d7b30d0f7ce11ecac15635d0d5eef51</th>\n",
       "      <td>2</td>\n",
       "      <td>2.0</td>\n",
       "      <td>3</td>\n",
       "      <td>2</td>\n",
       "      <td>3</td>\n",
       "      <td>2</td>\n",
       "      <td>5</td>\n",
       "      <td>18.0</td>\n",
       "    </tr>\n",
       "    <tr>\n",
       "      <th>beb2f260f7e611ec867b553062cb5bf9</th>\n",
       "      <td>2</td>\n",
       "      <td>2.0</td>\n",
       "      <td>3</td>\n",
       "      <td>3</td>\n",
       "      <td>3</td>\n",
       "      <td>2</td>\n",
       "      <td>5</td>\n",
       "      <td>18.0</td>\n",
       "    </tr>\n",
       "  </tbody>\n",
       "</table>\n",
       "<p>8861 rows × 8 columns</p>\n",
       "</div>"
      ],
      "text/plain": [
       "                                  phone_operator  os_name  affiliate  service  \\\n",
       "user_id                                                                         \n",
       "4058b340e19e11ec95703f2faa3b39a3               3      2.0          3        3   \n",
       "a0b80170e1b011ec8a541fcc86ad2588               2      2.0          3        2   \n",
       "ee930990e1fa11ecb2988337303a8fef               2      2.0          3        2   \n",
       "ee930990e1fa11ecb2988337303a8fef               2      2.0          3        2   \n",
       "86fa07f0e26511ecb4346f30d03a03b3               2      2.0          3        2   \n",
       "...                                          ...      ...        ...      ...   \n",
       "bbdfbc80f79611eca4a103a479708082               1      2.0          3        2   \n",
       "74ecbe20f7bb11eca4a103a479708082               2      2.0          3        2   \n",
       "93225370f7be11ec867b553062cb5bf9               3      1.0          3        2   \n",
       "3d7b30d0f7ce11ecac15635d0d5eef51               2      2.0          3        2   \n",
       "beb2f260f7e611ec867b553062cb5bf9               2      2.0          3        3   \n",
       "\n",
       "                                  day_of_week  recency  frequency  \\\n",
       "user_id                                                             \n",
       "4058b340e19e11ec95703f2faa3b39a3            3        2          8   \n",
       "a0b80170e1b011ec8a541fcc86ad2588            3        2          9   \n",
       "ee930990e1fa11ecb2988337303a8fef            3        2          7   \n",
       "ee930990e1fa11ecb2988337303a8fef            1        2          7   \n",
       "86fa07f0e26511ecb4346f30d03a03b3            1        2          7   \n",
       "...                                       ...      ...        ...   \n",
       "bbdfbc80f79611eca4a103a479708082            3        2          1   \n",
       "74ecbe20f7bb11eca4a103a479708082            3        2          1   \n",
       "93225370f7be11ec867b553062cb5bf9            3        2          5   \n",
       "3d7b30d0f7ce11ecac15635d0d5eef51            3        2          5   \n",
       "beb2f260f7e611ec867b553062cb5bf9            3        2          5   \n",
       "\n",
       "                                  pricepoint_sum  \n",
       "user_id                                           \n",
       "4058b340e19e11ec95703f2faa3b39a3            28.8  \n",
       "a0b80170e1b011ec8a541fcc86ad2588            32.4  \n",
       "ee930990e1fa11ecb2988337303a8fef            25.2  \n",
       "ee930990e1fa11ecb2988337303a8fef            25.2  \n",
       "86fa07f0e26511ecb4346f30d03a03b3            25.2  \n",
       "...                                          ...  \n",
       "bbdfbc80f79611eca4a103a479708082             3.6  \n",
       "74ecbe20f7bb11eca4a103a479708082             3.6  \n",
       "93225370f7be11ec867b553062cb5bf9            18.0  \n",
       "3d7b30d0f7ce11ecac15635d0d5eef51            18.0  \n",
       "beb2f260f7e611ec867b553062cb5bf9            18.0  \n",
       "\n",
       "[8861 rows x 8 columns]"
      ]
     },
     "execution_count": 68,
     "metadata": {},
     "output_type": "execute_result"
    }
   ],
   "source": [
    "change_recency_score(failed)"
   ]
  },
  {
   "cell_type": "code",
   "execution_count": 69,
   "id": "f8510c9d",
   "metadata": {
    "ExecuteTime": {
     "end_time": "2022-08-28T20:05:43.085179Z",
     "start_time": "2022-08-28T20:05:43.054810Z"
    }
   },
   "outputs": [
    {
     "data": {
      "text/html": [
       "<div>\n",
       "<style scoped>\n",
       "    .dataframe tbody tr th:only-of-type {\n",
       "        vertical-align: middle;\n",
       "    }\n",
       "\n",
       "    .dataframe tbody tr th {\n",
       "        vertical-align: top;\n",
       "    }\n",
       "\n",
       "    .dataframe thead th {\n",
       "        text-align: right;\n",
       "    }\n",
       "</style>\n",
       "<table border=\"1\" class=\"dataframe\">\n",
       "  <thead>\n",
       "    <tr style=\"text-align: right;\">\n",
       "      <th></th>\n",
       "      <th>phone_operator</th>\n",
       "      <th>os_name</th>\n",
       "      <th>affiliate</th>\n",
       "      <th>service</th>\n",
       "      <th>day_of_week</th>\n",
       "      <th>recency</th>\n",
       "      <th>frequency</th>\n",
       "      <th>pricepoint_sum</th>\n",
       "      <th>total_score</th>\n",
       "    </tr>\n",
       "    <tr>\n",
       "      <th>user_id</th>\n",
       "      <th></th>\n",
       "      <th></th>\n",
       "      <th></th>\n",
       "      <th></th>\n",
       "      <th></th>\n",
       "      <th></th>\n",
       "      <th></th>\n",
       "      <th></th>\n",
       "      <th></th>\n",
       "    </tr>\n",
       "  </thead>\n",
       "  <tbody>\n",
       "    <tr>\n",
       "      <th>4058b340e19e11ec95703f2faa3b39a3</th>\n",
       "      <td>3</td>\n",
       "      <td>2.0</td>\n",
       "      <td>3</td>\n",
       "      <td>3</td>\n",
       "      <td>3</td>\n",
       "      <td>2</td>\n",
       "      <td>-8</td>\n",
       "      <td>-28.8</td>\n",
       "      <td>20.8</td>\n",
       "    </tr>\n",
       "    <tr>\n",
       "      <th>a0b80170e1b011ec8a541fcc86ad2588</th>\n",
       "      <td>2</td>\n",
       "      <td>2.0</td>\n",
       "      <td>3</td>\n",
       "      <td>2</td>\n",
       "      <td>3</td>\n",
       "      <td>2</td>\n",
       "      <td>-9</td>\n",
       "      <td>-32.4</td>\n",
       "      <td>27.4</td>\n",
       "    </tr>\n",
       "    <tr>\n",
       "      <th>ee930990e1fa11ecb2988337303a8fef</th>\n",
       "      <td>2</td>\n",
       "      <td>2.0</td>\n",
       "      <td>3</td>\n",
       "      <td>2</td>\n",
       "      <td>3</td>\n",
       "      <td>2</td>\n",
       "      <td>-7</td>\n",
       "      <td>-25.2</td>\n",
       "      <td>18.2</td>\n",
       "    </tr>\n",
       "    <tr>\n",
       "      <th>ee930990e1fa11ecb2988337303a8fef</th>\n",
       "      <td>2</td>\n",
       "      <td>2.0</td>\n",
       "      <td>3</td>\n",
       "      <td>2</td>\n",
       "      <td>1</td>\n",
       "      <td>2</td>\n",
       "      <td>-7</td>\n",
       "      <td>-25.2</td>\n",
       "      <td>20.2</td>\n",
       "    </tr>\n",
       "    <tr>\n",
       "      <th>86fa07f0e26511ecb4346f30d03a03b3</th>\n",
       "      <td>2</td>\n",
       "      <td>2.0</td>\n",
       "      <td>3</td>\n",
       "      <td>2</td>\n",
       "      <td>1</td>\n",
       "      <td>2</td>\n",
       "      <td>-7</td>\n",
       "      <td>-25.2</td>\n",
       "      <td>20.2</td>\n",
       "    </tr>\n",
       "  </tbody>\n",
       "</table>\n",
       "</div>"
      ],
      "text/plain": [
       "                                  phone_operator  os_name  affiliate  service  \\\n",
       "user_id                                                                         \n",
       "4058b340e19e11ec95703f2faa3b39a3               3      2.0          3        3   \n",
       "a0b80170e1b011ec8a541fcc86ad2588               2      2.0          3        2   \n",
       "ee930990e1fa11ecb2988337303a8fef               2      2.0          3        2   \n",
       "ee930990e1fa11ecb2988337303a8fef               2      2.0          3        2   \n",
       "86fa07f0e26511ecb4346f30d03a03b3               2      2.0          3        2   \n",
       "\n",
       "                                  day_of_week  recency  frequency  \\\n",
       "user_id                                                             \n",
       "4058b340e19e11ec95703f2faa3b39a3            3        2         -8   \n",
       "a0b80170e1b011ec8a541fcc86ad2588            3        2         -9   \n",
       "ee930990e1fa11ecb2988337303a8fef            3        2         -7   \n",
       "ee930990e1fa11ecb2988337303a8fef            1        2         -7   \n",
       "86fa07f0e26511ecb4346f30d03a03b3            1        2         -7   \n",
       "\n",
       "                                  pricepoint_sum  total_score  \n",
       "user_id                                                        \n",
       "4058b340e19e11ec95703f2faa3b39a3           -28.8         20.8  \n",
       "a0b80170e1b011ec8a541fcc86ad2588           -32.4         27.4  \n",
       "ee930990e1fa11ecb2988337303a8fef           -25.2         18.2  \n",
       "ee930990e1fa11ecb2988337303a8fef           -25.2         20.2  \n",
       "86fa07f0e26511ecb4346f30d03a03b3           -25.2         20.2  "
      ]
     },
     "execution_count": 69,
     "metadata": {},
     "output_type": "execute_result"
    }
   ],
   "source": [
    "# once we're working with failed billings attempts, there's no sense in sum these variables\n",
    "# i.e frequency for failed attemps means that as this number is higher, worst it is\n",
    "# that's why we're changing them to negative\n",
    "\n",
    "#failed['recency'] = failed['recency'] * -1\n",
    "failed['frequency'] = failed['frequency']  *-1\n",
    "failed['pricepoint_sum'] = failed['pricepoint_sum'] *-1\n",
    "\n",
    "# sum all columns - total score\n",
    "failed['total_score'] = failed.sum(axis=1)\n",
    "failed['total_score'] = abs(failed['total_score'])\n",
    "failed.head()"
   ]
  },
  {
   "cell_type": "markdown",
   "id": "73a91b8e",
   "metadata": {},
   "source": [
    "## K-MEANS"
   ]
  },
  {
   "cell_type": "markdown",
   "id": "0c61f15e",
   "metadata": {},
   "source": [
    "For this step, we're going to use K-Means, an unsupervised machine learning algorithm.\n",
    "\n",
    "Knowing all the scores, important variables, frequency, recency, the sum of price points per user, etc., we're going to separate our data into 3 clusters. This way will be possible to understand, by the distance of each data point, how our users are grouped and then, we can move forward to plan action."
   ]
  },
  {
   "cell_type": "markdown",
   "id": "1baa9ef8",
   "metadata": {},
   "source": [
    "## ELBOW METHOD"
   ]
  },
  {
   "cell_type": "markdown",
   "id": "6190cb70",
   "metadata": {},
   "source": [
    "The elbow method is used to determine the optimal number of clusters in k-means clustering.\n",
    "\n",
    "Note: Although it's a very useful and common method, is up to the business decision the optimal number of clusters"
   ]
  },
  {
   "cell_type": "code",
   "execution_count": 70,
   "id": "b07daace",
   "metadata": {
    "ExecuteTime": {
     "end_time": "2022-08-28T20:05:43.109982Z",
     "start_time": "2022-08-28T20:05:43.089782Z"
    }
   },
   "outputs": [
    {
     "data": {
      "text/plain": [
       "array([[ 1.22357826,  0.55174041,  0.36806961, ..., -1.14809182,\n",
       "        -1.14809182,  0.98045054],\n",
       "       [-0.0598387 ,  0.55174041,  0.36806961, ..., -1.56772448,\n",
       "        -1.56772448,  1.95654344],\n",
       "       [-0.0598387 ,  0.55174041,  0.36806961, ..., -0.72845917,\n",
       "        -0.72845917,  0.5959291 ],\n",
       "       ...,\n",
       "       [ 1.22357826, -1.78780795,  0.36806961, ...,  0.11080614,\n",
       "         0.11080614, -0.76468524],\n",
       "       [-0.0598387 ,  0.55174041,  0.36806961, ...,  0.11080614,\n",
       "         0.11080614, -0.76468524],\n",
       "       [-0.0598387 ,  0.55174041,  0.36806961, ...,  0.11080614,\n",
       "         0.11080614, -0.9125781 ]])"
      ]
     },
     "execution_count": 70,
     "metadata": {},
     "output_type": "execute_result"
    }
   ],
   "source": [
    "scaler = StandardScaler()\n",
    "failed = failed.dropna()\n",
    "\n",
    "X = failed\n",
    "x_std = scaler.fit_transform(X)\n",
    "\n",
    "x_std"
   ]
  },
  {
   "cell_type": "code",
   "execution_count": 71,
   "id": "fb332a0c",
   "metadata": {
    "ExecuteTime": {
     "end_time": "2022-08-28T20:05:44.349163Z",
     "start_time": "2022-08-28T20:05:43.114779Z"
    }
   },
   "outputs": [
    {
     "data": {
      "image/png": "[encoded data removed]",
      "text/plain": [
       "<Figure size 640x480 with 1 Axes>"
      ]
     },
     "metadata": {},
     "output_type": "display_data"
    }
   ],
   "source": [
    "sns.set_theme()\n",
    "\n",
    "wcss = []\n",
    "\n",
    "for i in range(1, 11):\n",
    "    kmeans = KMeans(n_clusters = i, init= 'k-means++', random_state = 0)\n",
    "    kmeans.fit(X)\n",
    "    wcss.append(kmeans.inertia_)\n",
    "    \n",
    "plt.plot(range(1, 11), wcss, color = 'cadetblue')\n",
    "set_chart_config('Elbow Method', '', '')"
   ]
  },
  {
   "cell_type": "code",
   "execution_count": 72,
   "id": "24a61001",
   "metadata": {
    "ExecuteTime": {
     "end_time": "2022-08-28T20:05:44.459458Z",
     "start_time": "2022-08-28T20:05:44.353462Z"
    }
   },
   "outputs": [
    {
     "name": "stderr",
     "output_type": "stream",
     "text": [
      "/var/folders/wv/w46jcg9n1wg9gv31ph4v6nvr0000gn/T/ipykernel_13205/3664028641.py:4: SettingWithCopyWarning: \n",
      "A value is trying to be set on a copy of a slice from a DataFrame.\n",
      "Try using .loc[row_indexer,col_indexer] = value instead\n",
      "\n",
      "See the caveats in the documentation: https://pandas.pydata.org/pandas-docs/stable/user_guide/indexing.html#returning-a-view-versus-a-copy\n",
      "  failed['cluster'] = kmeans.predict(x_std)\n"
     ]
    }
   ],
   "source": [
    "kmeans = KMeans(n_clusters = 3, init = 'k-means++', random_state = 42)\n",
    "\n",
    "kmeans.fit(x_std)\n",
    "failed['cluster'] = kmeans.predict(x_std)\n",
    "\n",
    "centroids = kmeans.cluster_centers_"
   ]
  },
  {
   "cell_type": "markdown",
   "id": "670be7a9",
   "metadata": {},
   "source": [
    "## CLUSTERS VISUALIZATION"
   ]
  },
  {
   "cell_type": "code",
   "execution_count": 73,
   "id": "3586c9fc",
   "metadata": {
    "ExecuteTime": {
     "end_time": "2022-08-28T20:05:44.474529Z",
     "start_time": "2022-08-28T20:05:44.464527Z"
    }
   },
   "outputs": [],
   "source": [
    "failed = failed.copy(deep = True)\n",
    "\n",
    "failed['pricepoint_sum_jitter'] = random.randint(-4, 5, len(failed)) + failed['pricepoint_sum']\n",
    "failed['total_score_jitter'] = random.randint(-4, 5, len(failed)) + failed['total_score']"
   ]
  },
  {
   "cell_type": "code",
   "execution_count": 74,
   "id": "ffaa06ab",
   "metadata": {
    "ExecuteTime": {
     "end_time": "2022-08-28T20:05:46.722368Z",
     "start_time": "2022-08-28T20:05:44.478520Z"
    }
   },
   "outputs": [
    {
     "data": {
      "text/plain": [
       "<Figure size 640x480 with 0 Axes>"
      ]
     },
     "metadata": {},
     "output_type": "display_data"
    },
    {
     "data": {
      "image/png": "[encoded data removed]",
      "text/plain": [
       "<Figure size 1500x1000 with 3 Axes>"
      ]
     },
     "metadata": {},
     "output_type": "display_data"
    }
   ],
   "source": [
    "m1 = failed['total_score'].mean()\n",
    "m2 = delivered['total_score'].mean()\n",
    "\n",
    "fig3 = plt.figure(constrained_layout=True);\n",
    "fig3 = plt.figure(figsize=(15,10));\n",
    "\n",
    "gs = fig3.add_gridspec(2, 3) ## number of charts\n",
    "fig3.add_subplot(gs[1, :]) ##chart 1\n",
    "\n",
    "ax1 =sns.histplot(data = failed['total_score'], color = 'teal', label = 'failed')\n",
    "med1 = plt.vlines(x=m1, linewidth=2, color='#d62728', ymin=0, ymax=1200, linestyle='--', \n",
    "                label = 'Median Failed')\n",
    "ax = sns.histplot(data = delivered['total_score'], color = 'midnightblue', label = 'delivered')\n",
    "med2 = plt.vlines(x=m2, linewidth=2, color='orange', ymin=0, ymax=1200, linestyle='--', \n",
    "                label = 'Median Delivered')\n",
    "\n",
    "set_chart_config('Total Score: Delivered x Failed', 'Total Score', ' ')\n",
    "plt.xticks(color = 'grey', fontsize = 8);\n",
    "plt.yticks(color = 'grey', fontsize = 8);\n",
    "plt.legend();\n",
    "\n",
    "fig3.add_subplot(gs[0, :-1])\n",
    "ax1 = sns.scatterplot(data = failed, x='pricepoint_sum_jitter', y = 'total_score_jitter', hue = 'cluster',\n",
    "                    palette = {0 : 'midnightblue', 1 : 'mediumseagreen', 2 : 'darkturquoise'})\n",
    "                   \n",
    "set_chart_config('Cluster visualization - Failed Attempts', '', '')\n",
    "plt.xticks(color = 'white');\n",
    "plt.yticks(color = 'white');\n",
    "\n",
    "fig3.add_subplot(gs[0, 2])\n",
    "order = failed.groupby('cluster')['total_score'].mean().sort_values(ascending = False).index\n",
    "ax3 = sns.barplot(data = failed, x = 'cluster', y = 'total_score',  estimator=mean,  order = order,\n",
    "                 palette = {0 : 'midnightblue', 1 : 'mediumseagreen', 2 : 'darkturquoise'}, ci= False)\n",
    "\n",
    "set_chart_config('Mean of Total Score by Cluster\\nFailed Attempts', 'Cluster', '');"
   ]
  },
  {
   "cell_type": "markdown",
   "id": "d443cecc",
   "metadata": {},
   "source": [
    "***\n",
    "\n",
    "1. For the first chart, we have a scatterplot with 3 groups generated using K-means algorithm. By having this visualization (handing the dataset with the customer ID as well), it's possible to address the best business decisions.\n",
    "\n",
    "\n",
    "2. In The second chart there's a barplot comparing the mean of the total score for each cluster. As an initial analysis, we can have a big picture of the most, middle, and less important clusters based on the total score we've set before. Using the CRISP-DM methodology, we can dig into each cluster and have more information.\n",
    "\n",
    "\n",
    "3. In the third chart, the histogram plot, we can compare the Total Score between the users who have had the delivered billing and the ones that haven't (failed). These two charts show how these two groups are different from each other, in number of users and also the total score. The goal is to maximize the delivered chart and consequently, decrease the failed one.\n"
   ]
  },
  {
   "cell_type": "markdown",
   "id": "513aaa0b",
   "metadata": {},
   "source": [
    "## FINAL DATAFRAME"
   ]
  },
  {
   "cell_type": "markdown",
   "id": "19f63812",
   "metadata": {},
   "source": [
    "***\n",
    "\n",
    "Exporting the final dataframe of failed delivered, by user, with cluster number for each record."
   ]
  },
  {
   "cell_type": "code",
   "execution_count": 75,
   "id": "881f03f2",
   "metadata": {
    "ExecuteTime": {
     "end_time": "2022-08-28T20:05:46.734416Z",
     "start_time": "2022-08-28T20:05:46.725529Z"
    }
   },
   "outputs": [],
   "source": [
    "#target columns\n",
    "failed_export = failed[['phone_operator', 'os_name', 'affiliate', 'service', 'day_of_week',\n",
    "       'recency', 'frequency', 'pricepoint_sum', 'total_score', 'cluster']]\n",
    "\n",
    "# transforming negative values\n",
    "failed_export = failed_export.abs()"
   ]
  },
  {
   "cell_type": "code",
   "execution_count": 76,
   "id": "021e971b",
   "metadata": {
    "ExecuteTime": {
     "end_time": "2022-08-28T20:05:46.784917Z",
     "start_time": "2022-08-28T20:05:46.738234Z"
    },
    "scrolled": false
   },
   "outputs": [
    {
     "data": {
      "text/html": [
       "<div>\n",
       "<style scoped>\n",
       "    .dataframe tbody tr th:only-of-type {\n",
       "        vertical-align: middle;\n",
       "    }\n",
       "\n",
       "    .dataframe tbody tr th {\n",
       "        vertical-align: top;\n",
       "    }\n",
       "\n",
       "    .dataframe thead th {\n",
       "        text-align: right;\n",
       "    }\n",
       "</style>\n",
       "<table border=\"1\" class=\"dataframe\">\n",
       "  <thead>\n",
       "    <tr style=\"text-align: right;\">\n",
       "      <th></th>\n",
       "      <th>phone_operator</th>\n",
       "      <th>os_name</th>\n",
       "      <th>affiliate</th>\n",
       "      <th>service</th>\n",
       "      <th>day_of_week</th>\n",
       "      <th>recency</th>\n",
       "      <th>frequency</th>\n",
       "      <th>pricepoint_sum</th>\n",
       "      <th>total_score</th>\n",
       "      <th>cluster</th>\n",
       "    </tr>\n",
       "    <tr>\n",
       "      <th>user_id</th>\n",
       "      <th></th>\n",
       "      <th></th>\n",
       "      <th></th>\n",
       "      <th></th>\n",
       "      <th></th>\n",
       "      <th></th>\n",
       "      <th></th>\n",
       "      <th></th>\n",
       "      <th></th>\n",
       "      <th></th>\n",
       "    </tr>\n",
       "  </thead>\n",
       "  <tbody>\n",
       "    <tr>\n",
       "      <th>4058b340e19e11ec95703f2faa3b39a3</th>\n",
       "      <td>NaN</td>\n",
       "      <td>Android</td>\n",
       "      <td>aff_4</td>\n",
       "      <td>gc</td>\n",
       "      <td>saturday</td>\n",
       "      <td>2</td>\n",
       "      <td>8</td>\n",
       "      <td>28.8</td>\n",
       "      <td>20.8</td>\n",
       "      <td>0</td>\n",
       "    </tr>\n",
       "    <tr>\n",
       "      <th>a0b80170e1b011ec8a541fcc86ad2588</th>\n",
       "      <td>C</td>\n",
       "      <td>Android</td>\n",
       "      <td>aff_4</td>\n",
       "      <td>ps</td>\n",
       "      <td>saturday</td>\n",
       "      <td>2</td>\n",
       "      <td>9</td>\n",
       "      <td>32.4</td>\n",
       "      <td>27.4</td>\n",
       "      <td>0</td>\n",
       "    </tr>\n",
       "    <tr>\n",
       "      <th>ee930990e1fa11ecb2988337303a8fef</th>\n",
       "      <td>C</td>\n",
       "      <td>Android</td>\n",
       "      <td>aff_4</td>\n",
       "      <td>ps</td>\n",
       "      <td>saturday</td>\n",
       "      <td>2</td>\n",
       "      <td>7</td>\n",
       "      <td>25.2</td>\n",
       "      <td>18.2</td>\n",
       "      <td>0</td>\n",
       "    </tr>\n",
       "    <tr>\n",
       "      <th>ee930990e1fa11ecb2988337303a8fef</th>\n",
       "      <td>C</td>\n",
       "      <td>Android</td>\n",
       "      <td>aff_4</td>\n",
       "      <td>ps</td>\n",
       "      <td>thursday</td>\n",
       "      <td>2</td>\n",
       "      <td>7</td>\n",
       "      <td>25.2</td>\n",
       "      <td>20.2</td>\n",
       "      <td>0</td>\n",
       "    </tr>\n",
       "    <tr>\n",
       "      <th>86fa07f0e26511ecb4346f30d03a03b3</th>\n",
       "      <td>C</td>\n",
       "      <td>Android</td>\n",
       "      <td>aff_4</td>\n",
       "      <td>ps</td>\n",
       "      <td>thursday</td>\n",
       "      <td>2</td>\n",
       "      <td>7</td>\n",
       "      <td>25.2</td>\n",
       "      <td>20.2</td>\n",
       "      <td>0</td>\n",
       "    </tr>\n",
       "    <tr>\n",
       "      <th>...</th>\n",
       "      <td>...</td>\n",
       "      <td>...</td>\n",
       "      <td>...</td>\n",
       "      <td>...</td>\n",
       "      <td>...</td>\n",
       "      <td>...</td>\n",
       "      <td>...</td>\n",
       "      <td>...</td>\n",
       "      <td>...</td>\n",
       "      <td>...</td>\n",
       "    </tr>\n",
       "    <tr>\n",
       "      <th>bbdfbc80f79611eca4a103a479708082</th>\n",
       "      <td>A</td>\n",
       "      <td>Android</td>\n",
       "      <td>aff_4</td>\n",
       "      <td>ps</td>\n",
       "      <td>saturday</td>\n",
       "      <td>2</td>\n",
       "      <td>1</td>\n",
       "      <td>3.6</td>\n",
       "      <td>8.4</td>\n",
       "      <td>1</td>\n",
       "    </tr>\n",
       "    <tr>\n",
       "      <th>74ecbe20f7bb11eca4a103a479708082</th>\n",
       "      <td>C</td>\n",
       "      <td>Android</td>\n",
       "      <td>aff_4</td>\n",
       "      <td>ps</td>\n",
       "      <td>saturday</td>\n",
       "      <td>2</td>\n",
       "      <td>1</td>\n",
       "      <td>3.6</td>\n",
       "      <td>9.4</td>\n",
       "      <td>1</td>\n",
       "    </tr>\n",
       "    <tr>\n",
       "      <th>93225370f7be11ec867b553062cb5bf9</th>\n",
       "      <td>NaN</td>\n",
       "      <td>iOS</td>\n",
       "      <td>aff_4</td>\n",
       "      <td>ps</td>\n",
       "      <td>saturday</td>\n",
       "      <td>2</td>\n",
       "      <td>5</td>\n",
       "      <td>18.0</td>\n",
       "      <td>9.0</td>\n",
       "      <td>0</td>\n",
       "    </tr>\n",
       "    <tr>\n",
       "      <th>3d7b30d0f7ce11ecac15635d0d5eef51</th>\n",
       "      <td>C</td>\n",
       "      <td>Android</td>\n",
       "      <td>aff_4</td>\n",
       "      <td>ps</td>\n",
       "      <td>saturday</td>\n",
       "      <td>2</td>\n",
       "      <td>5</td>\n",
       "      <td>18.0</td>\n",
       "      <td>9.0</td>\n",
       "      <td>0</td>\n",
       "    </tr>\n",
       "    <tr>\n",
       "      <th>beb2f260f7e611ec867b553062cb5bf9</th>\n",
       "      <td>C</td>\n",
       "      <td>Android</td>\n",
       "      <td>aff_4</td>\n",
       "      <td>gc</td>\n",
       "      <td>saturday</td>\n",
       "      <td>2</td>\n",
       "      <td>5</td>\n",
       "      <td>18.0</td>\n",
       "      <td>8.0</td>\n",
       "      <td>0</td>\n",
       "    </tr>\n",
       "  </tbody>\n",
       "</table>\n",
       "<p>8858 rows × 10 columns</p>\n",
       "</div>"
      ],
      "text/plain": [
       "                                 phone_operator  os_name affiliate service  \\\n",
       "user_id                                                                      \n",
       "4058b340e19e11ec95703f2faa3b39a3            NaN  Android     aff_4      gc   \n",
       "a0b80170e1b011ec8a541fcc86ad2588              C  Android     aff_4      ps   \n",
       "ee930990e1fa11ecb2988337303a8fef              C  Android     aff_4      ps   \n",
       "ee930990e1fa11ecb2988337303a8fef              C  Android     aff_4      ps   \n",
       "86fa07f0e26511ecb4346f30d03a03b3              C  Android     aff_4      ps   \n",
       "...                                         ...      ...       ...     ...   \n",
       "bbdfbc80f79611eca4a103a479708082              A  Android     aff_4      ps   \n",
       "74ecbe20f7bb11eca4a103a479708082              C  Android     aff_4      ps   \n",
       "93225370f7be11ec867b553062cb5bf9            NaN      iOS     aff_4      ps   \n",
       "3d7b30d0f7ce11ecac15635d0d5eef51              C  Android     aff_4      ps   \n",
       "beb2f260f7e611ec867b553062cb5bf9              C  Android     aff_4      gc   \n",
       "\n",
       "                                 day_of_week  recency  frequency  \\\n",
       "user_id                                                            \n",
       "4058b340e19e11ec95703f2faa3b39a3    saturday        2          8   \n",
       "a0b80170e1b011ec8a541fcc86ad2588    saturday        2          9   \n",
       "ee930990e1fa11ecb2988337303a8fef    saturday        2          7   \n",
       "ee930990e1fa11ecb2988337303a8fef    thursday        2          7   \n",
       "86fa07f0e26511ecb4346f30d03a03b3    thursday        2          7   \n",
       "...                                      ...      ...        ...   \n",
       "bbdfbc80f79611eca4a103a479708082    saturday        2          1   \n",
       "74ecbe20f7bb11eca4a103a479708082    saturday        2          1   \n",
       "93225370f7be11ec867b553062cb5bf9    saturday        2          5   \n",
       "3d7b30d0f7ce11ecac15635d0d5eef51    saturday        2          5   \n",
       "beb2f260f7e611ec867b553062cb5bf9    saturday        2          5   \n",
       "\n",
       "                                  pricepoint_sum  total_score  cluster  \n",
       "user_id                                                                 \n",
       "4058b340e19e11ec95703f2faa3b39a3            28.8         20.8        0  \n",
       "a0b80170e1b011ec8a541fcc86ad2588            32.4         27.4        0  \n",
       "ee930990e1fa11ecb2988337303a8fef            25.2         18.2        0  \n",
       "ee930990e1fa11ecb2988337303a8fef            25.2         20.2        0  \n",
       "86fa07f0e26511ecb4346f30d03a03b3            25.2         20.2        0  \n",
       "...                                          ...          ...      ...  \n",
       "bbdfbc80f79611eca4a103a479708082             3.6          8.4        1  \n",
       "74ecbe20f7bb11eca4a103a479708082             3.6          9.4        1  \n",
       "93225370f7be11ec867b553062cb5bf9            18.0          9.0        0  \n",
       "3d7b30d0f7ce11ecac15635d0d5eef51            18.0          9.0        0  \n",
       "beb2f260f7e611ec867b553062cb5bf9            18.0          8.0        0  \n",
       "\n",
       "[8858 rows x 10 columns]"
      ]
     },
     "execution_count": 76,
     "metadata": {},
     "output_type": "execute_result"
    }
   ],
   "source": [
    "# changing back to categorical variables\n",
    "failed_export['phone_operator'] = failed_export['phone_operator'].map(d.phone_operator)\n",
    "failed_export['os_name'] = failed_export['os_name'].map(d.os_name)\n",
    "failed_export['service'] = failed_export['service'].map(d.service)\n",
    "failed_export['day_of_week'] = failed_export['day_of_week'].map(d.day_of_week)\n",
    "failed_export['affiliate'] = failed_export['affiliate'].map(d.affiliate)\n",
    "\n",
    "failed_export"
   ]
  }
 ],
 "metadata": {
  "kernelspec": {
   "display_name": "venv-sam-media",
   "language": "python",
   "name": "venv-sam-media"
  },
  "language_info": {
   "codemirror_mode": {
    "name": "ipython",
    "version": 3
   },
   "file_extension": ".py",
   "mimetype": "text/x-python",
   "name": "python",
   "nbconvert_exporter": "python",
   "pygments_lexer": "ipython3",
   "version": "3.9.5"
  },
  "toc": {
   "base_numbering": 1,
   "nav_menu": {},
   "number_sections": true,
   "sideBar": true,
   "skip_h1_title": false,
   "title_cell": "Table of Contents",
   "title_sidebar": "Contents",
   "toc_cell": false,
   "toc_position": {
    "height": "calc(100% - 180px)",
    "left": "10px",
    "top": "150px",
    "width": "165px"
   },
   "toc_section_display": true,
   "toc_window_display": false
  }
 },
 "nbformat": 4,
 "nbformat_minor": 5
}
